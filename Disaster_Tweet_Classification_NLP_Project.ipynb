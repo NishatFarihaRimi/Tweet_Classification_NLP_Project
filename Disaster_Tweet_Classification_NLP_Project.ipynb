{
  "cells": [
    {
      "cell_type": "markdown",
      "metadata": {
        "id": "yZMFPWGZKooT"
      },
      "source": [
        "# Disaster Tweet Classification\n",
        "## Project Overview\n",
        "The goal of this project is to predict whether a given tweet is about a real disaster or not.\n",
        "We will use a dataset containing 10,000 labeled tweets to train a machine learning model that classifies tweets into two categories:\n",
        "\n",
        "Disaster Tweet → 1 and Non-Disaster Tweet → 0"
      ]
    },
    {
      "cell_type": "markdown",
      "metadata": {
        "id": "pc1QqGtvZDiG"
      },
      "source": [
        "## Project Structure:\n",
        "\n",
        "* Data Loading: Import dataset, basic inspection\n",
        "\n",
        "* EDA: Check size, missing data, visualize tweet length and class balance\n",
        "\n",
        "* Text Preprocessing: Clean, tokenize, POS tag, lemmatize, remove stopwords & short words, custom stopwords\n",
        "\n",
        "* Feature Engineering: Frequent words analysis, vectorize (CountVectorizer, TF-IDF)\n",
        "\n",
        "* Train-Test Split: Stratified 80-20 split\n",
        "\n",
        "* Model Training: Logistic Regression, Naive Bayes, Random Forest, SVM, Neural Network\n",
        "\n",
        "* Hyperparameter Tuning: GridSearchCV on vectorizer and model params\n",
        "* Model Evaluation: Accuracy, F1, ROC AUC, confusion matrix\n",
        "\n",
        "* Final Step: Train CNN, compare all models, select best overall model\n",
        "\n"
      ]
    },
    {
      "cell_type": "markdown",
      "metadata": {
        "id": "R8Pe97hlAX7h"
      },
      "source": [
        "# Import Libraries"
      ]
    },
    {
      "cell_type": "code",
      "execution_count": 39,
      "metadata": {
        "id": "0D7JjhaVAhoc"
      },
      "outputs": [],
      "source": [
        "import pandas as pd\n",
        "import numpy as np\n",
        "import re\n",
        "import string\n",
        "import matplotlib.pyplot as plt\n",
        "import seaborn as sns\n",
        "\n",
        "from sklearn.model_selection import train_test_split, GridSearchCV, cross_val_score\n",
        "from sklearn.metrics import classification_report, confusion_matrix, accuracy_score, f1_score, roc_auc_score\n",
        "from sklearn.feature_extraction.text import CountVectorizer, TfidfVectorizer\n",
        "from sklearn.pipeline import Pipeline\n",
        "from sklearn.naive_bayes import MultinomialNB\n",
        "from sklearn.linear_model import LogisticRegression\n",
        "\n",
        "import nltk\n",
        "from nltk.corpus import stopwords\n",
        "from nltk.stem import WordNetLemmatizer\n",
        "from nltk import pos_tag, word_tokenize\n",
        "from nltk.corpus import wordnet\n",
        "import warnings\n",
        "warnings.filterwarnings(\"ignore\")"
      ]
    },
    {
      "cell_type": "markdown",
      "metadata": {
        "id": "YKQyvp1DNyR6"
      },
      "source": [
        "## Download NLTK Resources"
      ]
    },
    {
      "cell_type": "code",
      "execution_count": 40,
      "metadata": {
        "colab": {
          "base_uri": "https://localhost:8080/"
        },
        "id": "3oLUyD3wZI81",
        "outputId": "6935901f-243f-40ff-c182-3d9dffef3b45"
      },
      "outputs": [
        {
          "name": "stderr",
          "output_type": "stream",
          "text": [
            "[nltk_data] Downloading package punkt to /Users/nishat/nltk_data...\n",
            "[nltk_data]   Package punkt is already up-to-date!\n",
            "[nltk_data] Downloading package punkt_tab to\n",
            "[nltk_data]     /Users/nishat/nltk_data...\n",
            "[nltk_data]   Package punkt_tab is already up-to-date!\n",
            "[nltk_data] Downloading package stopwords to\n",
            "[nltk_data]     /Users/nishat/nltk_data...\n",
            "[nltk_data]   Package stopwords is already up-to-date!\n",
            "[nltk_data] Downloading package wordnet to /Users/nishat/nltk_data...\n",
            "[nltk_data]   Package wordnet is already up-to-date!\n",
            "[nltk_data] Downloading package averaged_perceptron_tagger to\n",
            "[nltk_data]     /Users/nishat/nltk_data...\n",
            "[nltk_data]   Package averaged_perceptron_tagger is already up-to-\n",
            "[nltk_data]       date!\n",
            "[nltk_data] Downloading package averaged_perceptron_tagger_eng to\n",
            "[nltk_data]     /Users/nishat/nltk_data...\n",
            "[nltk_data]   Package averaged_perceptron_tagger_eng is already up-to-\n",
            "[nltk_data]       date!\n",
            "[nltk_data] Downloading package omw-1.4 to /Users/nishat/nltk_data...\n",
            "[nltk_data]   Package omw-1.4 is already up-to-date!\n"
          ]
        },
        {
          "data": {
            "text/plain": [
              "True"
            ]
          },
          "execution_count": 40,
          "metadata": {},
          "output_type": "execute_result"
        }
      ],
      "source": [
        "nltk.download('punkt')\n",
        "nltk.download('punkt_tab')\n",
        "nltk.download('stopwords')\n",
        "nltk.download('wordnet')\n",
        "nltk.download('averaged_perceptron_tagger')\n",
        "nltk.download('averaged_perceptron_tagger_eng')\n",
        "nltk.download('omw-1.4')             # for lemmatizer"
      ]
    },
    {
      "cell_type": "markdown",
      "metadata": {
        "id": "OA-2SCI_ApBC"
      },
      "source": [
        "# Load Dataset"
      ]
    },
    {
      "cell_type": "code",
      "execution_count": 41,
      "metadata": {
        "colab": {
          "base_uri": "https://localhost:8080/"
        },
        "id": "1YYU7lkwA-SQ",
        "outputId": "ee70bb3e-3f67-4dcc-f50d-a2ede7f7aebe"
      },
      "outputs": [],
      "source": [
        "#Mount data from google drive\n",
        "#from google.colab import drive\n",
        "#drive.mount('/content/drive')"
      ]
    },
    {
      "cell_type": "code",
      "execution_count": 42,
      "metadata": {
        "colab": {
          "base_uri": "https://localhost:8080/",
          "height": 206
        },
        "id": "tGCb-mfIAqtl",
        "outputId": "3fa98c2e-b336-4924-b447-37fd5f81d5b2"
      },
      "outputs": [
        {
          "data": {
            "text/html": [
              "<div>\n",
              "<style scoped>\n",
              "    .dataframe tbody tr th:only-of-type {\n",
              "        vertical-align: middle;\n",
              "    }\n",
              "\n",
              "    .dataframe tbody tr th {\n",
              "        vertical-align: top;\n",
              "    }\n",
              "\n",
              "    .dataframe thead th {\n",
              "        text-align: right;\n",
              "    }\n",
              "</style>\n",
              "<table border=\"1\" class=\"dataframe\">\n",
              "  <thead>\n",
              "    <tr style=\"text-align: right;\">\n",
              "      <th></th>\n",
              "      <th>text</th>\n",
              "      <th>target</th>\n",
              "    </tr>\n",
              "  </thead>\n",
              "  <tbody>\n",
              "    <tr>\n",
              "      <th>0</th>\n",
              "      <td>Our Deeds are the Reason of this #earthquake M...</td>\n",
              "      <td>1</td>\n",
              "    </tr>\n",
              "    <tr>\n",
              "      <th>1</th>\n",
              "      <td>Forest fire near La Ronge Sask. Canada</td>\n",
              "      <td>1</td>\n",
              "    </tr>\n",
              "    <tr>\n",
              "      <th>2</th>\n",
              "      <td>All residents asked to 'shelter in place' are ...</td>\n",
              "      <td>1</td>\n",
              "    </tr>\n",
              "    <tr>\n",
              "      <th>3</th>\n",
              "      <td>13,000 people receive #wildfires evacuation or...</td>\n",
              "      <td>1</td>\n",
              "    </tr>\n",
              "    <tr>\n",
              "      <th>4</th>\n",
              "      <td>Just got sent this photo from Ruby #Alaska as ...</td>\n",
              "      <td>1</td>\n",
              "    </tr>\n",
              "  </tbody>\n",
              "</table>\n",
              "</div>"
            ],
            "text/plain": [
              "                                                text  target\n",
              "0  Our Deeds are the Reason of this #earthquake M...       1\n",
              "1             Forest fire near La Ronge Sask. Canada       1\n",
              "2  All residents asked to 'shelter in place' are ...       1\n",
              "3  13,000 people receive #wildfires evacuation or...       1\n",
              "4  Just got sent this photo from Ruby #Alaska as ...       1"
            ]
          },
          "execution_count": 42,
          "metadata": {},
          "output_type": "execute_result"
        }
      ],
      "source": [
        "df = pd.read_csv(\"Data/train.csv\")\n",
        "df.head()"
      ]
    },
    {
      "cell_type": "markdown",
      "metadata": {
        "id": "5X6jy5gIh4kC"
      },
      "source": [
        "# Exploratory Data Analysis (EDA)"
      ]
    },
    {
      "cell_type": "markdown",
      "metadata": {
        "id": "f2TeH9kCN_5t"
      },
      "source": [
        "## Dataset Shape & Missing Values"
      ]
    },
    {
      "cell_type": "code",
      "execution_count": 43,
      "metadata": {
        "colab": {
          "base_uri": "https://localhost:8080/",
          "height": 165
        },
        "id": "hGNZCZxu_XAc",
        "outputId": "89ee5941-303b-49ea-fb48-6ec054641723"
      },
      "outputs": [
        {
          "name": "stdout",
          "output_type": "stream",
          "text": [
            "Dataframe Size=  (7613, 2)\n"
          ]
        },
        {
          "data": {
            "text/plain": [
              "text      0\n",
              "target    0\n",
              "dtype: int64"
            ]
          },
          "execution_count": 43,
          "metadata": {},
          "output_type": "execute_result"
        }
      ],
      "source": [
        "print(\"Dataframe Size= \",df.shape)\n",
        "df.isna().sum()"
      ]
    },
    {
      "cell_type": "markdown",
      "metadata": {
        "id": "O0Kr0Bu1OEsE"
      },
      "source": [
        "## Sample Tweets"
      ]
    },
    {
      "cell_type": "code",
      "execution_count": 44,
      "metadata": {
        "colab": {
          "base_uri": "https://localhost:8080/"
        },
        "id": "FkRIpoPJ_1FJ",
        "outputId": "39d2f690-d76a-4661-9bbf-2619af0586b6"
      },
      "outputs": [
        {
          "name": "stdout",
          "output_type": "stream",
          "text": [
            "- So you have a new weapon that can cause un-imaginable destruction.\n",
            "- The f$&amp;@ing things I do for #GISHWHES Just got soaked in a deluge going for pads and tampons. Thx @mishacollins @/@\n",
            "- DT @georgegalloway: RT @Galloway4Mayor: ÛÏThe CoL police can catch a pickpocket in Liverpool Stree... http://t.co/vXIn1gOq4Q\n",
            "- Aftershock back to school kick off was great. I want to thank everyone for making it possible. What a great night.\n",
            "- in response to trauma Children of Addicts develop a defensive self - one that decreases vulnerability. (3\n",
            "- @Calum5SOS you look like you got caught in a rainstorm this is amazing and disgusting at the same time\n",
            "- my favorite lady came to our volunteer meeting\n",
            "hopefully joining her youth collision and i am excite http://t.co/Ij0wQ490cS\n",
            "- @brianroemmele UX fail of EMV - people want to insert and remove quickly like a gas pump stripe reader. 1 person told me it crashed the POS\n",
            "- Can't find my ariana grande shirt  this is a fucking tragedy\n",
            "- The Murderous Story Of AmericaÛªs First Hijacking http://t.co/EYUGk6byxr\n",
            "- AKILAH WORLD NEWS Cop pulls man from car to avoid this ... http://t.co/Vn2Fnmy7li\n",
            "- We walk the plank of a sinking ship\n",
            "- @Zak_Bagans pets r like part of the family. I love animals.??? The last 2 pets I had I rescued! Breaks my heart when animals are mistreated????\n",
            "- ON THE USE OF PERFORATED METAL SHEAR PANEL SFOR SEISMIC-RESISTANT APPLICATIONS http://t.co/cX5OjH2Dr4\n",
            "- The answer my friend is yelling in the wind-my latest article for http://t.co/LbMeKYphM5.Pls read and share - thanks! http://t.co/9NwAJLi9cr\n",
            "- Woman electrocuted #Red #Redblood #videoclip http://t.co/9PYmM2RUWf #\n",
            "- Who is bringing the tornadoes and floods. Who is bringing the climate change. God is after America He is plaguing her\n",
            " \n",
            "#FARRAKHAN #QUOTE\n",
            "- So these savages leaked Thomas Brady gangstermail account and wonder why he was quick to fatality his Samsung mobile? B real son.\n",
            "- Malaysia Airlines Flight 370 that Disappeared 17months ago Debris Found South of The Indian Ocean - http://t.co/nrHURYSyPd\n",
            "- People are finally panicking about cable TV http://t.co/BBjLs1fsaD\n"
          ]
        }
      ],
      "source": [
        "sample = df['text'].sample(20, random_state=42)\n",
        "for text in sample:\n",
        "  print('-',text)"
      ]
    },
    {
      "cell_type": "markdown",
      "metadata": {
        "id": "tGk_whAxAI2Q"
      },
      "source": [
        "## Tweet Length Distribution"
      ]
    },
    {
      "cell_type": "code",
      "execution_count": 45,
      "metadata": {
        "colab": {
          "base_uri": "https://localhost:8080/"
        },
        "id": "B6ppoj0-iC3E",
        "outputId": "c2b5fdcc-5534-4342-8b74-cfee429e4383"
      },
      "outputs": [
        {
          "name": "stdout",
          "output_type": "stream",
          "text": [
            "         count        mean        std   min   25%    50%    75%    max\n",
            "target                                                                \n",
            "0       4342.0   95.706817  35.885924   7.0  68.0  101.0  130.0  157.0\n",
            "1       3271.0  108.113421  29.309854  14.0  88.0  115.0  136.0  151.0\n"
          ]
        }
      ],
      "source": [
        "df['tweet_length'] = df['text'].apply(len)\n",
        "print(df.groupby('target')['tweet_length'].describe())"
      ]
    },
    {
      "cell_type": "code",
      "execution_count": 46,
      "metadata": {
        "colab": {
          "base_uri": "https://localhost:8080/",
          "height": 564
        },
        "id": "mC0OP5gUiL7Q",
        "outputId": "00ac281c-4bdb-44f7-89fd-e971defe7338"
      },
      "outputs": [
        {
          "data": {
            "image/png": "[encoded data removed]",
            "text/plain": [
              "<Figure size 1200x600 with 1 Axes>"
            ]
          },
          "metadata": {},
          "output_type": "display_data"
        }
      ],
      "source": [
        "#Visualize tweet length distribution\n",
        "plt.figure(figsize=(12,6))\n",
        "sns.histplot(data=df, x='tweet_length', hue='target', bins=30, kde=True, palette=['blue', 'red'], alpha=0.5)\n",
        "\n",
        "plt.title('Tweet Length Distribution: Disaster vs Non-Disaster')\n",
        "plt.xlabel('Tweet Length (number of characters)')\n",
        "plt.ylabel('Frequency')\n",
        "plt.legend(title='Target', labels=['Non-Disaster', 'Disaster'])\n",
        "plt.show()"
      ]
    },
    {
      "cell_type": "markdown",
      "metadata": {
        "id": "srfBVcvZSZLY"
      },
      "source": [
        "The histogram plot shows that disaster and non-disaster tweets have a similar length range, but disaster tweets are slightly longer on average. This may be because describing a disaster often needs more words. The difference is small, but it could still help classification models along with other features."
      ]
    },
    {
      "cell_type": "markdown",
      "metadata": {
        "id": "e06CztauOPZs"
      },
      "source": [
        "## Target Distribution"
      ]
    },
    {
      "cell_type": "code",
      "execution_count": 47,
      "metadata": {
        "colab": {
          "base_uri": "https://localhost:8080/",
          "height": 543
        },
        "id": "oGrRM0OVLOVD",
        "outputId": "a9d3389d-717c-444f-f600-f19810765e7f"
      },
      "outputs": [
        {
          "name": "stdout",
          "output_type": "stream",
          "text": [
            "target_label\n",
            "Non-disaster(0)    4342\n",
            "Disaster(1)        3271\n",
            "Name: count, dtype: int64\n"
          ]
        },
        {
          "data": {
            "image/png": "[encoded data removed]",
            "text/plain": [
              "<Figure size 640x480 with 1 Axes>"
            ]
          },
          "metadata": {},
          "output_type": "display_data"
        }
      ],
      "source": [
        "# Map target values to labels\n",
        "df['target_label'] = df['target'].map({0: 'Non-disaster(0)', 1: 'Disaster(1)'})\n",
        "\n",
        "# Check distribution\n",
        "print(df['target_label'].value_counts())\n",
        "\n",
        "# Plot with meaningful labels\n",
        "sns.countplot(x='target_label', data=df)\n",
        "plt.title('Target Distribution')\n",
        "plt.xlabel('Category')\n",
        "plt.ylabel('Count')\n",
        "plt.show()"
      ]
    },
    {
      "cell_type": "markdown",
      "metadata": {
        "id": "FEOApDJVSZLZ"
      },
      "source": [
        "The dataset is slightly imbalanced, with more non-disaster tweets (label 0) than disaster tweets (label 1) — about 4,000 vs. 3,200. This imbalance is taken into account during model training and evaluation."
      ]
    },
    {
      "cell_type": "markdown",
      "metadata": {
        "id": "kv1qmUt1BnMS"
      },
      "source": [
        "# Text Preprocessing\n",
        "\n",
        "Text preprocessing prepares tweets for analysis by:\n",
        "\n",
        "* Making all text lowercase.\n",
        "\n",
        "* Removing punctuation, numbers, extra spaces, links, HTML tags, and special characters.\n",
        "\n",
        "* Splitting the text into words (tokenizing).\n",
        "\n",
        "* Lemmatizing words (reducing them to their base form) with the right part of speech.\n",
        "\n",
        "* Removing common stop words and single-letter words.\n",
        "\n"
      ]
    },
    {
      "cell_type": "markdown",
      "metadata": {
        "id": "DzyxUx1SBq69"
      },
      "source": [
        "## Cleaning Text\n",
        "\n",
        "Tweets often contain noise (URLs, punctuation, stopwords, etc.).\n",
        "We will clean and normalize the text before using it in a machine learning model."
      ]
    },
    {
      "cell_type": "code",
      "execution_count": 48,
      "metadata": {
        "colab": {
          "base_uri": "https://localhost:8080/",
          "height": 458
        },
        "id": "i2zVGGH2A2Mp",
        "outputId": "f051d7f0-43c3-4629-b721-ca20825ed033"
      },
      "outputs": [
        {
          "data": {
            "text/plain": [
              "0       our deeds are the reason of this earthquake ma...\n",
              "1                   forest fire near la ronge sask canada\n",
              "2       all residents asked to shelter in place are be...\n",
              "3        people receive wildfires evacuation orders in...\n",
              "4       just got sent this photo from ruby alaska as s...\n",
              "                              ...                        \n",
              "7608    two giant cranes holding a bridge collapse int...\n",
              "7609    aria_ahrary thetawniest the out of control wil...\n",
              "7610                         m utckm s of volcano hawaii \n",
              "7611    police investigating after an ebike collided w...\n",
              "7612    the latest more homes razed by northern califo...\n",
              "Name: text_clean, Length: 7613, dtype: object"
            ]
          },
          "execution_count": 48,
          "metadata": {},
          "output_type": "execute_result"
        }
      ],
      "source": [
        "def clean_text(text):\n",
        "    text = text.lower()                            # lowercase\n",
        "    text = re.sub(r'\\d+', '', text)                # remove numbers\n",
        "    #text = re.sub(r'https?://\\S+|www\\.\\S+', '', text) # remove URLs\n",
        "    text = re.sub(r'<.*?>', '', text)              # remove HTML tags\n",
        "    text = re.sub(r'[^\\w\\s]', '', text)            #remove punctuation\n",
        "    text = re.sub(r'\\s+', ' ', text)               #remove extra spaces\n",
        "    text = re.sub(r'http\\S+', '', text)            # remove URLs\n",
        "    text = re.sub(r'[^\\x00-\\x7F]+', '', text)       #removing special characters\n",
        "   # text = re.sub(rf'[{re.escape(string.punctuation)}]', '', text) # remove punctuation\n",
        "    return text\n",
        "\n",
        "#Apply clean text function\n",
        "df['text_clean'] = df['text'].apply(clean_text)\n",
        "df['text_clean']"
      ]
    },
    {
      "cell_type": "markdown",
      "metadata": {
        "id": "9hMLJqFWB3p4"
      },
      "source": [
        "## Tokenization, Stopword Removal, Lemmatization\n",
        "\n",
        "We need to convert text into numerical form so that the model can understand it.\n",
        "We will use TF-IDF Vectorization."
      ]
    },
    {
      "cell_type": "code",
      "execution_count": 49,
      "metadata": {
        "colab": {
          "base_uri": "https://localhost:8080/",
          "height": 241
        },
        "id": "MZShuwsJB_CK",
        "outputId": "ce3e5b35-c71b-425d-ff39-e1b90e81a2e7"
      },
      "outputs": [
        {
          "data": {
            "text/plain": [
              "0             deed reason earthquake may allah forgive\n",
              "1                forest fire near la ronge sask canada\n",
              "2    resident ask shelter place notify officer evac...\n",
              "3    people receive wildfire evacuation order calif...\n",
              "4    get send photo ruby alaska smoke wildfire pour...\n",
              "Name: text_processed, dtype: object"
            ]
          },
          "execution_count": 49,
          "metadata": {},
          "output_type": "execute_result"
        }
      ],
      "source": [
        "stop_words = set(stopwords.words('english'))\n",
        "\n",
        "# POS tagging helper\n",
        "def get_wordnet_pos(tag):\n",
        "    if tag.startswith('J'):\n",
        "        return 'a'\n",
        "    elif tag.startswith('V'):\n",
        "        return 'v'\n",
        "    elif tag.startswith('N'):\n",
        "        return 'n'\n",
        "    elif tag.startswith('R'):\n",
        "        return 'r'\n",
        "    else:\n",
        "        return 'n'\n",
        "\n",
        "\n",
        "def tokenize_lemmatize(text):\n",
        "\n",
        "    words = word_tokenize(text)                         # Tokenize words\n",
        "    tagged_tokens = pos_tag(words)                      # POS tagging\n",
        "\n",
        "    lemmatizer = WordNetLemmatizer()                    # Lemmatize with correct POS\n",
        "    # Lemmatize using POS\n",
        "    words = [lemmatizer.lemmatize(word.lower(), get_wordnet_pos(tag))\n",
        "             for word, tag in tagged_tokens]\n",
        "\n",
        "    # Remove stopwords, keep only alphabetic words, and remove short words\n",
        "    words = [word for word in words\n",
        "             if word.isalpha() and len(word) > 1 and word not in stop_words]\n",
        "    return ' '.join(words)\n",
        "\n",
        "# Apply to cleaned text\n",
        "df['text_processed'] = df['text_clean'].apply(tokenize_lemmatize)\n",
        "df['text_processed'].head()"
      ]
    },
    {
      "cell_type": "code",
      "execution_count": 50,
      "metadata": {
        "colab": {
          "base_uri": "https://localhost:8080/"
        },
        "id": "zT27Ka2N3Dcb",
        "outputId": "24f75020-fcf3-460d-8eef-f6986402f2c7"
      },
      "outputs": [
        {
          "name": "stdout",
          "output_type": "stream",
          "text": [
            "- new weapon cause unimaginable destruction\n",
            "- famping thing gishwhes get soak deluge go pad tampon thx mishacollins\n",
            "- dt georgegalloway rt gallowaymayor col police catch pickpocket liverpool stree\n",
            "- aftershock back school kick great want thank everyone make possible great night\n",
            "- response trauma child addict develop defensive self one decrease vulnerability\n",
            "- calumsos look like get catch rainstorm amazing disgust time\n",
            "- favorite lady come volunteer meeting hopefully join youth collision excite\n",
            "- brianroemmele ux fail emv people want insert remove quickly like gas pump stripe reader person tell crash po\n",
            "- cant find ariana grande shirt fucking tragedy\n",
            "- murderous story america first hijack\n",
            "- akilah world news cop pull man car avoid\n",
            "- walk plank sinking ship\n",
            "- pet like part family love animals last pet rescue break heart animal mistreat\n",
            "- use perforated metal shear panel sfor seismicresistant application\n",
            "- answer friend yell windmy late article read share thanks\n",
            "- woman electrocute red redblood videoclip\n",
            "- bring tornado flood bring climate change god america plague farrakhan quote\n",
            "- savage leak thomas brady gangstermail account wonder quick fatality samsung mobile real son\n",
            "- malaysia airline flight disappear month ago debris find south indian ocean\n",
            "- people finally panic cable tv\n"
          ]
        }
      ],
      "source": [
        "#checking 5 random text agian to ensure cleaned text\n",
        "sample = df['text_processed'].sample(20, random_state=42)\n",
        "for text in sample:\n",
        "  print('-',text)"
      ]
    },
    {
      "cell_type": "markdown",
      "metadata": {
        "id": "aTgGghTaCQrL"
      },
      "source": [
        "# Train-Test Split\n",
        "We split the dataset into training (80%) and testing (20%) to check how well the model works on new, unseen data.\n",
        "\n",
        "* The split keeps the same ratio of disaster and non-disaster tweets in both sets (stratified by the label).\n",
        "\n",
        "* A fixed random seed, random state= 42 is used so the split is the same every time we run it.\n",
        "\n"
      ]
    },
    {
      "cell_type": "code",
      "execution_count": 51,
      "metadata": {
        "colab": {
          "base_uri": "https://localhost:8080/",
          "height": 530
        },
        "id": "n1n-kDkSCURn",
        "outputId": "d5a0784b-8f32-4c6b-820d-69d51588045b"
      },
      "outputs": [
        {
          "name": "stdout",
          "output_type": "stream",
          "text": [
            "X Train shape: (6090,)\n",
            "X test shape: (1523,)\n",
            "y Train shape: (6090,)\n",
            "y test shape: (1523,)\n"
          ]
        },
        {
          "data": {
            "text/plain": [
              "6234    sassy city girl country hunk strand smoky moun...\n",
              "326     god kingdom heavenly govt rule people earth ar...\n",
              "997     mopheme bigstar johnson problem game body bag ...\n",
              "7269                 vixmeldrew sound like whirlwind life\n",
              "2189    malaysia confirm plane debris wash reunion isl...\n",
              "                              ...                        \n",
              "3386    voluntary evacuation recommend time pickerel l...\n",
              "3280    rt calestous tanzania elephant population decl...\n",
              "305     pbban temporary russaky armageddon kill flag f...\n",
              "1648    petition heartless owner whip horse collapse t...\n",
              "7569    marynmck thats beyond adorable hope wont wreck...\n",
              "Name: text_processed, Length: 6090, dtype: object"
            ]
          },
          "execution_count": 51,
          "metadata": {},
          "output_type": "execute_result"
        }
      ],
      "source": [
        "X = df['text_processed']\n",
        "y = df['target']\n",
        "\n",
        "X_train, X_test, y_train, y_test = train_test_split(\n",
        "    X, y, test_size=0.2, random_state=42, stratify=y\n",
        ")\n",
        "print(\"X Train shape:\", X_train.shape)\n",
        "print(\"X test shape:\", X_test.shape)\n",
        "print(\"y Train shape:\", y_train.shape)\n",
        "print(\"y test shape:\", y_test.shape)\n",
        "X_train"
      ]
    },
    {
      "cell_type": "markdown",
      "metadata": {
        "id": "m5dbDhx5IynS"
      },
      "source": [
        "# Feature Engineering\n",
        "\n"
      ]
    },
    {
      "cell_type": "markdown",
      "metadata": {
        "id": "F09oYuInI2eR"
      },
      "source": [
        "## Analyzing Most Frequent Words by Class\n",
        "\n",
        "To better understand the language patterns in disaster-related versus non-disaster tweets, we examined the top 20 most frequent words in each category. This helps identify keywords that distinguish the two classes.\n",
        "\n",
        "- Extracted and counted words separately for disaster and non-disaster tweets.\n",
        "- Displayed the most common words for each class to observe differences."
      ]
    },
    {
      "cell_type": "code",
      "execution_count": 52,
      "metadata": {
        "colab": {
          "base_uri": "https://localhost:8080/"
        },
        "id": "tXLgsBqWI6QD",
        "outputId": "c1dbf996-e3f1-4eeb-cbab-b787e0242a86"
      },
      "outputs": [
        {
          "name": "stdout",
          "output_type": "stream",
          "text": [
            "Top Disaster Words:\n",
            "[('fire', 267), ('kill', 156), ('news', 140), ('bomb', 129), ('get', 121), ('via', 121), ('disaster', 118), ('california', 114), ('crash', 111), ('suicide', 110), ('police', 107), ('amp', 107), ('people', 106), ('family', 105), ('flood', 104), ('train', 101), ('attack', 101), ('home', 100), ('like', 99), ('say', 93)]\n",
            "\n",
            " Top Non-Disaster Words:\n",
            "[('get', 316), ('like', 293), ('im', 248), ('go', 194), ('amp', 193), ('new', 172), ('dont', 154), ('one', 135), ('make', 128), ('body', 117), ('see', 115), ('love', 109), ('come', 107), ('say', 107), ('bag', 107), ('time', 106), ('video', 102), ('know', 100), ('via', 99), ('want', 98)]\n"
          ]
        }
      ],
      "source": [
        "from collections import Counter\n",
        "\n",
        "# Split by classes\n",
        "disaster_texts = df[df['target'] == 1]['text_processed']\n",
        "non_disaster_texts = df[df['target'] == 0]['text_processed']\n",
        "\n",
        "# Get word frequencies\n",
        "disaster_words = \" \".join(disaster_texts).split()\n",
        "non_disaster_words = \" \".join(non_disaster_texts).split()\n",
        "\n",
        "disaster_freq = Counter(disaster_words).most_common(20)\n",
        "non_disaster_freq = Counter(non_disaster_words).most_common(20)\n",
        "\n",
        "print(\"Top Disaster Words:\")\n",
        "print(disaster_freq)\n",
        "\n",
        "print(\"\\n Top Non-Disaster Words:\")\n",
        "print(non_disaster_freq)"
      ]
    },
    {
      "cell_type": "markdown",
      "metadata": {
        "id": "R_LRwyJWI_42"
      },
      "source": [
        "## Removing Class-Specific Stopwords\n",
        "\n",
        "Some high-frequency words appear frequently in both classes, which might introduce noise or bias in the model. To reduce this:\n",
        "\n",
        "- Identified overlapping top words from both classes.\n",
        "- Added these overlapping words to a custom stopwords list.\n",
        "- Reapplied text preprocessing to remove these words, aiming to improve feature quality by focusing on more discriminative terms."
      ]
    },
    {
      "cell_type": "code",
      "execution_count": 53,
      "metadata": {
        "colab": {
          "base_uri": "https://localhost:8080/"
        },
        "id": "KyHh8zTSJEKZ",
        "outputId": "500b7176-f879-44d4-9e7e-4c1073338a4b"
      },
      "outputs": [
        {
          "name": "stdout",
          "output_type": "stream",
          "text": [
            "Overlapping High-Frequency Words: {'like', 'via', 'amp', 'say', 'get'}\n",
            "\n",
            "Custom Words:  {'until', 'against', 'doing', 'how', \"they'd\", 'an', 'his', \"they've\", \"they're\", 'those', 'you', \"aren't\", 'each', 'have', 'when', 'here', \"they'll\", 't', 'weren', \"she'd\", 'say', \"needn't\", \"it's\", 'your', 'for', 'off', 'below', 'don', 'herself', \"mightn't\", 'haven', 'any', 's', \"you'd\", 'in', \"he's\", 'during', 'had', 'my', 'm', \"i'd\", 'ma', 'as', \"he'll\", 'he', 'at', 'than', 'under', 'over', 'these', 'a', 'has', 'get', \"won't\", \"hadn't\", 'theirs', 'll', 'once', 'just', 'him', \"i'll\", 'our', 'will', 'again', \"didn't\", 'y', 'yourselves', 'couldn', 'itself', 'if', 'whom', 'like', 'some', \"you're\", 'ours', 'there', 'to', 'them', \"we're\", 'further', 'same', \"mustn't\", 'between', 'via', 'am', 'more', \"we'll\", 'after', 'shan', 'they', 'or', 'been', \"she'll\", 'yourself', 'does', \"wouldn't\", 'of', 'yours', 'hasn', 'only', 'this', 'was', 're', 'having', 'isn', 'mightn', 'wasn', 'who', \"he'd\", 'himself', 'too', 'can', 'didn', 'ain', 'the', 'because', 'ourselves', 'other', 'that', 'their', \"weren't\", 'doesn', \"don't\", 'did', 'own', 'nor', \"haven't\", 'i', \"wasn't\", 'what', 'where', 'it', 'were', 'shouldn', \"it'll\", 'being', 'should', 'no', 'both', 'now', 'hadn', 'out', 'on', \"that'll\", 'her', 'o', 'above', 'with', 'aren', 'won', \"doesn't\", \"i've\", \"shouldn't\", \"shan't\", 've', 'needn', 'by', \"it'd\", \"she's\", 'do', 'hers', 'about', 'all', \"i'm\", 'are', 'so', 'd', 'is', 'most', 'while', 'through', 'why', 'but', 'myself', \"should've\", 'from', 'we', \"you'll\", 'very', \"you've\", 'its', 'into', 'amp', 'themselves', 'be', \"isn't\", \"couldn't\", 'me', 'mustn', \"we'd\", 'and', 'few', \"we've\", 'before', \"hasn't\", 'she', 'up', 'then', 'down', 'wouldn', 'which', 'not', 'such'}\n"
          ]
        }
      ],
      "source": [
        "# Extract overlapping top words in both tweets\n",
        "disaster_top = set([word for word, _ in disaster_freq])\n",
        "non_disaster_top = set([word for word, _ in non_disaster_freq])\n",
        "overlap_words = disaster_top & non_disaster_top\n",
        "print(\"Overlapping High-Frequency Words:\", overlap_words)\n",
        "\n",
        "# Remove these during preprocessing\n",
        "custom_stopwords = set(stopwords.words('english')).union(overlap_words)\n",
        "print(\"\\nCustom Words: \", custom_stopwords)\n",
        "\n",
        "# Reapply preprocessing with new stopwords\n",
        "df['text_processed'] = df['text_clean'].apply(tokenize_lemmatize)"
      ]
    },
    {
      "cell_type": "markdown",
      "metadata": {
        "id": "O-ZRYoccCZTR"
      },
      "source": [
        "# Feature Extraction\n",
        "The text data is turned into numbers using two methods:\n",
        "\n",
        "CountVectorizer: Builds a list of all unique words in the training data and represents each tweet as a vector showing how many times each word appears.\n",
        "\n",
        "TfidfVectorizer: Similar to CountVectorizer but also considers how common a word is across all tweets, giving less weight to very frequent words."
      ]
    },
    {
      "cell_type": "code",
      "execution_count": 54,
      "metadata": {
        "colab": {
          "base_uri": "https://localhost:8080/"
        },
        "id": "efDej9RcChY6",
        "outputId": "79bc0e99-54eb-4c38-b292-35cc968eb911"
      },
      "outputs": [
        {
          "name": "stdout",
          "output_type": "stream",
          "text": [
            "  (0, 3696)\t0.32104915959711144\n",
            "  (0, 734)\t0.2126639172264907\n",
            "  (0, 1704)\t0.22361009293841505\n",
            "  (0, 904)\t0.24515052606809698\n",
            "  (0, 1960)\t0.32104915959711144\n",
            "  (0, 4072)\t0.31032950231228995\n",
            "  (0, 3917)\t0.32104915959711144\n",
            "  (0, 2668)\t0.261078016121065\n",
            "  (0, 3927)\t0.2485403316150507\n",
            "  (0, 169)\t0.32104915959711144\n",
            "  (0, 1974)\t0.32104915959711144\n",
            "  (0, 461)\t0.32104915959711144\n",
            "  (1, 1722)\t0.32670980308946335\n",
            "  (1, 2229)\t0.4736765200170476\n",
            "  (1, 1741)\t0.41119215694562167\n",
            "  (1, 3650)\t0.37936360702447414\n",
            "  (1, 3061)\t0.2660427102084601\n",
            "  (1, 1244)\t0.3985007071765061\n",
            "  (1, 201)\t0.3554067886328749\n",
            "  (2, 2167)\t0.5031238531364315\n",
            "  (2, 3314)\t0.4274425063052198\n",
            "  (2, 1663)\t0.36252941058164895\n",
            "  (2, 450)\t0.29866760740298776\n",
            "  (2, 290)\t0.3221470371625386\n",
            "  (2, 2776)\t0.4896434063760663\n",
            "  :\t:\n",
            "  (6086, 3569)\t0.37081903909084174\n",
            "  (6087, 201)\t0.3104404841623393\n",
            "  (6087, 1475)\t0.3418640558698007\n",
            "  (6087, 2220)\t0.2378326250420715\n",
            "  (6087, 3467)\t0.3268468133670794\n",
            "  (6087, 1552)\t0.3313662698770284\n",
            "  (6087, 3044)\t0.4137466500740397\n",
            "  (6087, 4230)\t0.4137466500740397\n",
            "  (6087, 4906)\t0.4137466500740397\n",
            "  (6088, 796)\t0.23429820935419274\n",
            "  (6088, 2208)\t0.26198016572735616\n",
            "  (6088, 30)\t0.3059544412581517\n",
            "  (6088, 4226)\t0.2724540008035399\n",
            "  (6088, 141)\t0.3141286044461302\n",
            "  (6088, 1933)\t0.30851706857721173\n",
            "  (6088, 3077)\t0.33703084421793644\n",
            "  (6088, 2981)\t0.3205443551057091\n",
            "  (6088, 1864)\t0.3862857775664951\n",
            "  (6088, 4801)\t0.3862857775664951\n",
            "  (6089, 1927)\t0.37776585217741115\n",
            "  (6089, 4885)\t0.3527554930646014\n",
            "  (6089, 4255)\t0.3691683497289496\n",
            "  (6089, 381)\t0.4665882313883773\n",
            "  (6089, 4858)\t0.41988288157849146\n",
            "  (6089, 2815)\t0.45007226162810443\n"
          ]
        }
      ],
      "source": [
        "# Define vectorizers with max_features=5000 for both\n",
        "count_vect = CountVectorizer(max_features=5000)\n",
        "tfidf = TfidfVectorizer(max_features=5000)\n",
        "\n",
        "# Fit and transform data\n",
        "X_train_count = count_vect.fit_transform(X_train)\n",
        "X_test_count = count_vect.transform(X_test)\n",
        "\n",
        "X_train_tfidf = tfidf.fit_transform(X_train)\n",
        "X_test_tfidf = tfidf.transform(X_test)\n",
        "print(X_train_tfidf)"
      ]
    },
    {
      "cell_type": "markdown",
      "metadata": {
        "id": "Z0UHz3GpCm4Q"
      },
      "source": [
        "# Model Training & Evaluation\n",
        "\n",
        "\n",
        "We compare several models for tweet classification using both **CountVectorizer** and **TF-IDF** features.\n",
        "\n",
        "**Logistic Regression** serves as the baseline model.  \n",
        "Other models include **Naive Bayes**, **Random Forest**, **SVM**, and a **Neural Network**.  \n",
        "\n",
        "Performance is measured using Accuracy, F1 Score, and ROC AUC.\n"
      ]
    },
    {
      "cell_type": "markdown",
      "metadata": {
        "id": "3mk12eQzCtsE"
      },
      "source": [
        "## Logistic Regression\n",
        "Baseline Model"
      ]
    },
    {
      "cell_type": "code",
      "execution_count": 55,
      "metadata": {
        "colab": {
          "base_uri": "https://localhost:8080/"
        },
        "id": "iW4BPrHECso1",
        "outputId": "8dd2b1b1-ca84-4b24-daef-7978a96b2616"
      },
      "outputs": [
        {
          "name": "stdout",
          "output_type": "stream",
          "text": [
            "F1 Score with TF-IDF: 0.7744610281923715\n",
            "F1 Score with CountVectorizer: 0.7633466135458168\n"
          ]
        }
      ],
      "source": [
        "model_tfidf = LogisticRegression(max_iter=500)\n",
        "model_tfidf.fit(X_train_tfidf, y_train)\n",
        "y_pred_lr_tfidf = model_tfidf.predict(X_test_tfidf)\n",
        "print(\"F1 Score with TF-IDF:\", f1_score(y_test, y_pred_lr_tfidf))\n",
        "\n",
        "model_count = LogisticRegression(max_iter=500)\n",
        "model_count.fit(X_train_count, y_train)\n",
        "y_pred_lr_count = model_count.predict(X_test_count)\n",
        "print(\"F1 Score with CountVectorizer:\", f1_score(y_test, y_pred_lr_count))"
      ]
    },
    {
      "cell_type": "markdown",
      "metadata": {
        "id": "g9vI3N93FwCZ"
      },
      "source": [
        "## Multinomial Naive Bayes\n",
        "A probabilistic model well-suited for text classification."
      ]
    },
    {
      "cell_type": "code",
      "execution_count": 56,
      "metadata": {
        "colab": {
          "base_uri": "https://localhost:8080/"
        },
        "id": "Fpqid0OdFzw2",
        "outputId": "636f2421-acb8-40a0-a4e7-6645a6ba439c"
      },
      "outputs": [
        {
          "name": "stdout",
          "output_type": "stream",
          "text": [
            "Naive Bayes F1 Score with TF-IDF: 0.7645569620253164\n",
            "Naive Bayes F1 Score with CountVectorizer: 0.770096463022508\n"
          ]
        }
      ],
      "source": [
        "from sklearn.naive_bayes import MultinomialNB\n",
        "\n",
        "# Naive Bayes with TF-IDF\n",
        "nb_tfidf = MultinomialNB()\n",
        "nb_tfidf.fit(X_train_tfidf, y_train)\n",
        "y_pred_nb_tfidf = nb_tfidf.predict(X_test_tfidf)\n",
        "print(\"Naive Bayes F1 Score with TF-IDF:\", f1_score(y_test, y_pred_nb_tfidf))\n",
        "\n",
        "# Naive Bayes with CountVectorizer\n",
        "nb_count = MultinomialNB()\n",
        "nb_count.fit(X_train_count, y_train)\n",
        "y_pred_nb_count = nb_count.predict(X_test_count)\n",
        "print(\"Naive Bayes F1 Score with CountVectorizer:\", f1_score(y_test, y_pred_nb_count))\n"
      ]
    },
    {
      "cell_type": "markdown",
      "metadata": {
        "id": "GOQVK-QBGHUp"
      },
      "source": [
        "## Random Forest Classifier\n",
        "An ensemble method that combines multiple decision trees for improved accuracy."
      ]
    },
    {
      "cell_type": "code",
      "execution_count": 57,
      "metadata": {
        "colab": {
          "base_uri": "https://localhost:8080/"
        },
        "id": "aFLhKl3BGKWZ",
        "outputId": "36f6eb9f-8022-4be8-8450-50b0875985bf"
      },
      "outputs": [
        {
          "name": "stdout",
          "output_type": "stream",
          "text": [
            "Random Forest F1 Score with TF-IDF: 0.7463651050080775\n",
            "Random Forest F1 Score with CountVectorizer: 0.7365028203062046\n"
          ]
        }
      ],
      "source": [
        "from sklearn.ensemble import RandomForestClassifier\n",
        "\n",
        "# Random Forest on TF-IDF vectors\n",
        "rf_tfidf = RandomForestClassifier(n_estimators=100, random_state=42)\n",
        "rf_tfidf.fit(X_train_tfidf, y_train)\n",
        "y_pred_rf_tfidf = rf_tfidf.predict(X_test_tfidf)\n",
        "print(\"Random Forest F1 Score with TF-IDF:\", f1_score(y_test, y_pred_rf_tfidf))\n",
        "\n",
        "# Random Forest on CountVectorizer vectors\n",
        "rf_count = RandomForestClassifier(n_estimators=100, random_state=42)\n",
        "rf_count.fit(X_train_count, y_train)\n",
        "y_pred_rf_count = rf_count.predict(X_test_count)\n",
        "print(\"Random Forest F1 Score with CountVectorizer:\", f1_score(y_test, y_pred_rf_count))"
      ]
    },
    {
      "cell_type": "markdown",
      "metadata": {
        "id": "f1Q9ezmDGOEe"
      },
      "source": [
        "## Support Vector Machine (SVM)\n",
        "A robust classifier effective in high-dimensional spaces."
      ]
    },
    {
      "cell_type": "code",
      "execution_count": 58,
      "metadata": {
        "colab": {
          "base_uri": "https://localhost:8080/"
        },
        "id": "Luz2phklGNHS",
        "outputId": "e5f4419c-a0ae-4862-86ae-bc0a8a900e1a"
      },
      "outputs": [
        {
          "name": "stdout",
          "output_type": "stream",
          "text": [
            "SVM F1 Score with TF-IDF: 0.7559429477020603\n",
            "SVM F1 Score with CountVectorizer: 0.7292474786656322\n"
          ]
        }
      ],
      "source": [
        "from sklearn.svm import LinearSVC\n",
        "\n",
        "# SVM on TF-IDF vectors\n",
        "svm_tfidf = LinearSVC(max_iter=10000, random_state=42)\n",
        "svm_tfidf.fit(X_train_tfidf, y_train)\n",
        "y_pred_svm_tfidf = svm_tfidf.predict(X_test_tfidf)\n",
        "print(\"SVM F1 Score with TF-IDF:\", f1_score(y_test, y_pred_svm_tfidf))\n",
        "\n",
        "# SVM on CountVectorizer vectors\n",
        "svm_count = LinearSVC(max_iter=10000, random_state=42)\n",
        "svm_count.fit(X_train_count, y_train)\n",
        "y_pred_svm_count = svm_count.predict(X_test_count)\n",
        "print(\"SVM F1 Score with CountVectorizer:\", f1_score(y_test, y_pred_svm_count))\n"
      ]
    },
    {
      "cell_type": "markdown",
      "metadata": {
        "id": "xX3B2qAsGuXF"
      },
      "source": [
        "## Basic Neural Network\n",
        "\n",
        "A simple deep learning model to capture complex patterns in the text data."
      ]
    },
    {
      "cell_type": "code",
      "execution_count": 59,
      "metadata": {
        "colab": {
          "base_uri": "https://localhost:8080/"
        },
        "id": "V2ZpL4ntSZLi",
        "outputId": "d55807da-340f-4c31-f8b4-e2ab45caa178"
      },
      "outputs": [
        {
          "name": "stdout",
          "output_type": "stream",
          "text": [
            "\n",
            "Training Neural Network with TF-IDF features...\n",
            "Epoch 1/5\n",
            "\u001b[1m172/172\u001b[0m \u001b[32m━━━━━━━━━━━━━━━━━━━━\u001b[0m\u001b[37m\u001b[0m \u001b[1m2s\u001b[0m 3ms/step - accuracy: 0.6997 - loss: 0.5657 - val_accuracy: 0.7898 - val_loss: 0.4568\n",
            "Epoch 2/5\n",
            "\u001b[1m172/172\u001b[0m \u001b[32m━━━━━━━━━━━━━━━━━━━━\u001b[0m\u001b[37m\u001b[0m \u001b[1m0s\u001b[0m 2ms/step - accuracy: 0.8668 - loss: 0.3189 - val_accuracy: 0.7931 - val_loss: 0.4727\n",
            "Epoch 3/5\n",
            "\u001b[1m172/172\u001b[0m \u001b[32m━━━━━━━━━━━━━━━━━━━━\u001b[0m\u001b[37m\u001b[0m \u001b[1m0s\u001b[0m 2ms/step - accuracy: 0.9283 - loss: 0.1913 - val_accuracy: 0.7849 - val_loss: 0.5796\n",
            "Epoch 4/5\n",
            "\u001b[1m172/172\u001b[0m \u001b[32m━━━━━━━━━━━━━━━━━━━━\u001b[0m\u001b[37m\u001b[0m \u001b[1m0s\u001b[0m 2ms/step - accuracy: 0.9579 - loss: 0.1178 - val_accuracy: 0.7800 - val_loss: 0.7166\n",
            "Epoch 5/5\n",
            "\u001b[1m172/172\u001b[0m \u001b[32m━━━━━━━━━━━━━━━━━━━━\u001b[0m\u001b[37m\u001b[0m \u001b[1m0s\u001b[0m 2ms/step - accuracy: 0.9688 - loss: 0.0798 - val_accuracy: 0.7783 - val_loss: 0.8364\n",
            "\u001b[1m48/48\u001b[0m \u001b[32m━━━━━━━━━━━━━━━━━━━━\u001b[0m\u001b[37m\u001b[0m \u001b[1m0s\u001b[0m 880us/step\n",
            "Neural Network F1 Score with TF-IDF: 0.7283\n",
            "\n",
            "Training Neural Network with CountVectorizer features...\n",
            "Epoch 1/5\n",
            "\u001b[1m172/172\u001b[0m \u001b[32m━━━━━━━━━━━━━━━━━━━━\u001b[0m\u001b[37m\u001b[0m \u001b[1m1s\u001b[0m 3ms/step - accuracy: 0.7473 - loss: 0.5336 - val_accuracy: 0.8309 - val_loss: 0.4212\n",
            "Epoch 2/5\n",
            "\u001b[1m172/172\u001b[0m \u001b[32m━━━━━━━━━━━━━━━━━━━━\u001b[0m\u001b[37m\u001b[0m \u001b[1m0s\u001b[0m 2ms/step - accuracy: 0.8796 - loss: 0.2942 - val_accuracy: 0.7997 - val_loss: 0.4694\n",
            "Epoch 3/5\n",
            "\u001b[1m172/172\u001b[0m \u001b[32m━━━━━━━━━━━━━━━━━━━━\u001b[0m\u001b[37m\u001b[0m \u001b[1m0s\u001b[0m 2ms/step - accuracy: 0.9405 - loss: 0.1612 - val_accuracy: 0.7849 - val_loss: 0.6112\n",
            "Epoch 4/5\n",
            "\u001b[1m172/172\u001b[0m \u001b[32m━━━━━━━━━━━━━━━━━━━━\u001b[0m\u001b[37m\u001b[0m \u001b[1m0s\u001b[0m 2ms/step - accuracy: 0.9631 - loss: 0.0938 - val_accuracy: 0.7865 - val_loss: 0.7457\n",
            "Epoch 5/5\n",
            "\u001b[1m172/172\u001b[0m \u001b[32m━━━━━━━━━━━━━━━━━━━━\u001b[0m\u001b[37m\u001b[0m \u001b[1m0s\u001b[0m 2ms/step - accuracy: 0.9721 - loss: 0.0669 - val_accuracy: 0.7947 - val_loss: 0.8636\n",
            "\u001b[1m48/48\u001b[0m \u001b[32m━━━━━━━━━━━━━━━━━━━━\u001b[0m\u001b[37m\u001b[0m \u001b[1m0s\u001b[0m 970us/step\n",
            "Neural Network F1 Score with CountVectorizer: 0.7358\n"
          ]
        }
      ],
      "source": [
        "from keras.models import Sequential\n",
        "from keras.layers import Dense\n",
        "from keras.optimizers import Adam\n",
        "from sklearn.metrics import f1_score\n",
        "\n",
        "# Convert sparse matrices to dense arrays\n",
        "vectorizers = {\n",
        "    'TF-IDF': (X_train_tfidf.toarray(), X_test_tfidf.toarray()),\n",
        "    'CountVectorizer': (X_train_count.toarray(), X_test_count.toarray())\n",
        "}\n",
        "\n",
        "def build_compile_model(input_dim):\n",
        "    \"\"\"Builds and compiles a simple feed-forward neural network.\"\"\"\n",
        "    model = Sequential([\n",
        "        Dense(128, activation='relu', input_shape=(input_dim,)),\n",
        "        Dense(64, activation='relu'),\n",
        "        Dense(32, activation='relu'),\n",
        "        Dense(1, activation='sigmoid')\n",
        "    ])\n",
        "    model.compile(optimizer=Adam(), loss='binary_crossentropy', metrics=['accuracy'])\n",
        "    return model\n",
        "\n",
        "# Store predictions for evaluation\n",
        "y_pred_nn = {}\n",
        "\n",
        "for name, (X_train_dense, X_test_dense) in vectorizers.items():\n",
        "    print(f\"\\nTraining Neural Network with {name} features...\")\n",
        "    model = build_compile_model(X_train_dense.shape[1])\n",
        "    model.fit(X_train_dense, y_train, epochs=5, batch_size=32, validation_split=0.1, verbose=1)\n",
        "\n",
        "    # Predictions\n",
        "    y_pred_prob = model.predict(X_test_dense)\n",
        "    y_pred = (y_pred_prob > 0.5).astype(int).flatten()\n",
        "\n",
        "    # Store predictions\n",
        "    y_pred_nn[name] = y_pred\n",
        "\n",
        "    # Display F1 score\n",
        "    print(f\"Neural Network F1 Score with {name}: {f1_score(y_test, y_pred):.4f}\")\n"
      ]
    },
    {
      "cell_type": "markdown",
      "metadata": {
        "id": "7ejb5TE3GoUG"
      },
      "source": [
        "## Evaluation\n",
        "\n",
        "We will evaluate all models using Accuracy, Precision, Recall, F1-Score, and a Confusion Matrix."
      ]
    },
    {
      "cell_type": "code",
      "execution_count": 60,
      "metadata": {
        "colab": {
          "base_uri": "https://localhost:8080/",
          "height": 1000
        },
        "id": "kvxlyZtrHwb4",
        "outputId": "0904010c-fbae-4e1d-e281-4338bb124f5d"
      },
      "outputs": [
        {
          "name": "stdout",
          "output_type": "stream",
          "text": [
            "\n",
            "Logistic Regression Evaluation with TF-IDF:\n",
            "Accuracy     : 0.8214\n",
            "F1 Score     : 0.7745\n",
            "ROC AUC      : 0.8081268497306122\n",
            "Classification Report:\n",
            "               precision    recall  f1-score   support\n",
            "\n",
            "           0       0.81      0.90      0.85       869\n",
            "           1       0.85      0.71      0.77       654\n",
            "\n",
            "    accuracy                           0.82      1523\n",
            "   macro avg       0.83      0.81      0.81      1523\n",
            "weighted avg       0.82      0.82      0.82      1523\n",
            "\n"
          ]
        },
        {
          "data": {
            "image/png": "[encoded data removed]",
            "text/plain": [
              "<Figure size 400x300 with 2 Axes>"
            ]
          },
          "metadata": {},
          "output_type": "display_data"
        },
        {
          "name": "stdout",
          "output_type": "stream",
          "text": [
            "\n",
            "Logistic Regression Evaluation with CountVectorizer:\n",
            "Accuracy     : 0.8050\n",
            "F1 Score     : 0.7633\n",
            "ROC AUC      : 0.796012323912684\n",
            "Classification Report:\n",
            "               precision    recall  f1-score   support\n",
            "\n",
            "           0       0.81      0.86      0.83       869\n",
            "           1       0.80      0.73      0.76       654\n",
            "\n",
            "    accuracy                           0.80      1523\n",
            "   macro avg       0.80      0.80      0.80      1523\n",
            "weighted avg       0.80      0.80      0.80      1523\n",
            "\n"
          ]
        },
        {
          "data": {
            "image/png": "[encoded data removed]",
            "text/plain": [
              "<Figure size 400x300 with 2 Axes>"
            ]
          },
          "metadata": {},
          "output_type": "display_data"
        },
        {
          "name": "stdout",
          "output_type": "stream",
          "text": [
            "\n",
            "Naive Bayes Evaluation with TF-IDF:\n",
            "Accuracy     : 0.8168\n",
            "F1 Score     : 0.7646\n",
            "ROC AUC      : 0.8014511037679078\n",
            "Classification Report:\n",
            "               precision    recall  f1-score   support\n",
            "\n",
            "           0       0.80      0.91      0.85       869\n",
            "           1       0.85      0.69      0.76       654\n",
            "\n",
            "    accuracy                           0.82      1523\n",
            "   macro avg       0.83      0.80      0.81      1523\n",
            "weighted avg       0.82      0.82      0.81      1523\n",
            "\n"
          ]
        },
        {
          "data": {
            "image/png": "[encoded data removed]",
            "text/plain": [
              "<Figure size 400x300 with 2 Axes>"
            ]
          },
          "metadata": {},
          "output_type": "display_data"
        },
        {
          "name": "stdout",
          "output_type": "stream",
          "text": [
            "\n",
            "Naive Bayes Evaluation with CountVectorizer:\n",
            "Accuracy     : 0.8122\n",
            "F1 Score     : 0.7701\n",
            "ROC AUC      : 0.8023414378367346\n",
            "Classification Report:\n",
            "               precision    recall  f1-score   support\n",
            "\n",
            "           0       0.81      0.87      0.84       869\n",
            "           1       0.81      0.73      0.77       654\n",
            "\n",
            "    accuracy                           0.81      1523\n",
            "   macro avg       0.81      0.80      0.81      1523\n",
            "weighted avg       0.81      0.81      0.81      1523\n",
            "\n"
          ]
        },
        {
          "data": {
            "image/png": "[encoded data removed]",
            "text/plain": [
              "<Figure size 400x300 with 2 Axes>"
            ]
          },
          "metadata": {},
          "output_type": "display_data"
        },
        {
          "name": "stdout",
          "output_type": "stream",
          "text": [
            "\n",
            "Random Forest Evaluation with TF-IDF:\n",
            "Accuracy     : 0.7938\n",
            "F1 Score     : 0.7464\n",
            "ROC AUC      : 0.7830153820166594\n",
            "Classification Report:\n",
            "               precision    recall  f1-score   support\n",
            "\n",
            "           0       0.80      0.86      0.83       869\n",
            "           1       0.79      0.71      0.75       654\n",
            "\n",
            "    accuracy                           0.79      1523\n",
            "   macro avg       0.79      0.78      0.79      1523\n",
            "weighted avg       0.79      0.79      0.79      1523\n",
            "\n"
          ]
        },
        {
          "data": {
            "image/png": "[encoded data removed]",
            "text/plain": [
              "<Figure size 400x300 with 2 Axes>"
            ]
          },
          "metadata": {},
          "output_type": "display_data"
        },
        {
          "name": "stdout",
          "output_type": "stream",
          "text": [
            "\n",
            "Random Forest Evaluation with CountVectorizer:\n",
            "Accuracy     : 0.7853\n",
            "F1 Score     : 0.7365\n",
            "ROC AUC      : 0.7745897601024764\n",
            "Classification Report:\n",
            "               precision    recall  f1-score   support\n",
            "\n",
            "           0       0.79      0.85      0.82       869\n",
            "           1       0.78      0.70      0.74       654\n",
            "\n",
            "    accuracy                           0.79      1523\n",
            "   macro avg       0.78      0.77      0.78      1523\n",
            "weighted avg       0.78      0.79      0.78      1523\n",
            "\n"
          ]
        },
        {
          "data": {
            "image/png": "[encoded data removed]",
            "text/plain": [
              "<Figure size 400x300 with 2 Axes>"
            ]
          },
          "metadata": {},
          "output_type": "display_data"
        },
        {
          "name": "stdout",
          "output_type": "stream",
          "text": [
            "\n",
            "SVM Evaluation with TF-IDF:\n",
            "Accuracy     : 0.7978\n",
            "F1 Score     : 0.7559\n",
            "ROC AUC      : 0.7893049059870567\n",
            "Classification Report:\n",
            "               precision    recall  f1-score   support\n",
            "\n",
            "           0       0.81      0.85      0.83       869\n",
            "           1       0.78      0.73      0.76       654\n",
            "\n",
            "    accuracy                           0.80      1523\n",
            "   macro avg       0.80      0.79      0.79      1523\n",
            "weighted avg       0.80      0.80      0.80      1523\n",
            "\n"
          ]
        },
        {
          "data": {
            "image/png": "[encoded data removed]",
            "text/plain": [
              "<Figure size 400x300 with 2 Axes>"
            ]
          },
          "metadata": {},
          "output_type": "display_data"
        },
        {
          "name": "stdout",
          "output_type": "stream",
          "text": [
            "\n",
            "SVM Evaluation with CountVectorizer:\n",
            "Accuracy     : 0.7708\n",
            "F1 Score     : 0.7292\n",
            "ROC AUC      : 0.7643905082646228\n",
            "Classification Report:\n",
            "               precision    recall  f1-score   support\n",
            "\n",
            "           0       0.79      0.81      0.80       869\n",
            "           1       0.74      0.72      0.73       654\n",
            "\n",
            "    accuracy                           0.77      1523\n",
            "   macro avg       0.77      0.76      0.77      1523\n",
            "weighted avg       0.77      0.77      0.77      1523\n",
            "\n"
          ]
        },
        {
          "data": {
            "image/png": "[encoded data removed]",
            "text/plain": [
              "<Figure size 400x300 with 2 Axes>"
            ]
          },
          "metadata": {},
          "output_type": "display_data"
        },
        {
          "name": "stdout",
          "output_type": "stream",
          "text": [
            "\n",
            "Keras Neural Net Evaluation with TF-IDF:\n",
            "Accuracy     : 0.7807\n",
            "F1 Score     : 0.7358\n",
            "ROC AUC      : 0.772075358157114\n",
            "Classification Report:\n",
            "               precision    recall  f1-score   support\n",
            "\n",
            "           0       0.79      0.83      0.81       869\n",
            "           1       0.76      0.71      0.74       654\n",
            "\n",
            "    accuracy                           0.78      1523\n",
            "   macro avg       0.78      0.77      0.77      1523\n",
            "weighted avg       0.78      0.78      0.78      1523\n",
            "\n"
          ]
        },
        {
          "data": {
            "image/png": "[encoded data removed]",
            "text/plain": [
              "<Figure size 400x300 with 2 Axes>"
            ]
          },
          "metadata": {},
          "output_type": "display_data"
        },
        {
          "name": "stdout",
          "output_type": "stream",
          "text": [
            "\n",
            "Keras Neural Net Evaluation with CountVectorizer:\n",
            "Accuracy     : 0.7800\n",
            "F1 Score     : 0.7283\n",
            "ROC AUC      : 0.768473552151406\n",
            "Classification Report:\n",
            "               precision    recall  f1-score   support\n",
            "\n",
            "           0       0.78      0.85      0.82       869\n",
            "           1       0.78      0.69      0.73       654\n",
            "\n",
            "    accuracy                           0.78      1523\n",
            "   macro avg       0.78      0.77      0.77      1523\n",
            "weighted avg       0.78      0.78      0.78      1523\n",
            "\n"
          ]
        },
        {
          "data": {
            "image/png": "[encoded data removed]",
            "text/plain": [
              "<Figure size 400x300 with 2 Axes>"
            ]
          },
          "metadata": {},
          "output_type": "display_data"
        }
      ],
      "source": [
        "from sklearn.metrics import (\n",
        "    accuracy_score,\n",
        "    f1_score,\n",
        "    roc_auc_score,\n",
        "    confusion_matrix,\n",
        "    classification_report\n",
        ")\n",
        "import matplotlib.pyplot as plt\n",
        "import seaborn as sns\n",
        "\n",
        "# Store all model predictions; models with both vectorizer results have tuples\n",
        "models = {\n",
        "    'Logistic Regression': (y_pred_lr_tfidf, y_pred_lr_count),\n",
        "    'Naive Bayes': (y_pred_nb_tfidf,y_pred_nb_count),\n",
        "    'Random Forest': (y_pred_rf_tfidf,y_pred_rf_count),\n",
        "    'SVM': (y_pred_svm_tfidf,y_pred_svm_count),\n",
        "    'Keras Neural Net': (y_pred_nn['CountVectorizer'], y_pred_nn['TF-IDF'])\n",
        "}\n",
        "\n",
        "true_labels = y_test\n",
        "\n",
        "for name, preds in models.items():\n",
        "    # Check if preds is a tuple (multiple predictions)\n",
        "    if isinstance(preds, tuple):\n",
        "        for i, pred in enumerate(preds):\n",
        "            vect_name = 'TF-IDF' if i == 0 else 'CountVectorizer'\n",
        "            print(f\"\\n{name} Evaluation with {vect_name}:\")\n",
        "\n",
        "            acc = accuracy_score(true_labels, pred)\n",
        "            f1 = f1_score(true_labels, pred, average='binary')\n",
        "            try:\n",
        "                roc = roc_auc_score(true_labels, pred)\n",
        "            except Exception:\n",
        "                roc = \"N/A (Check prediction format)\"\n",
        "\n",
        "            print(f\"Accuracy     : {acc:.4f}\")\n",
        "            print(f\"F1 Score     : {f1:.4f}\")\n",
        "            print(f\"ROC AUC      : {roc}\")\n",
        "            print(\"Classification Report:\\n\", classification_report(true_labels, pred))\n",
        "\n",
        "            cm = confusion_matrix(true_labels, pred)\n",
        "            plt.figure(figsize=(4,3))\n",
        "            sns.heatmap(cm, annot=True, fmt='d', cmap='Blues')\n",
        "            plt.title(f'{name} - Confusion Matrix ({vect_name})')\n",
        "            plt.xlabel('Predicted')\n",
        "            plt.ylabel('Actual')\n",
        "            plt.show()\n",
        "\n",
        "    else:\n",
        "        # Single prediction\n",
        "        print(f\"\\n{name} Evaluation:\")\n",
        "\n",
        "        acc = accuracy_score(true_labels, preds)\n",
        "        f1 = f1_score(true_labels, preds, average='binary')\n",
        "        try:\n",
        "            roc = roc_auc_score(true_labels, preds)\n",
        "        except Exception:\n",
        "            roc = \"N/A (Check prediction format)\"\n",
        "\n",
        "        print(f\"Accuracy     : {acc:.4f}\")\n",
        "        print(f\"F1 Score     : {f1:.4f}\")\n",
        "        print(f\"ROC AUC      : {roc}\")\n",
        "        print(\"Classification Report:\\n\", classification_report(true_labels, preds))\n",
        "\n",
        "        cm = confusion_matrix(true_labels, preds)\n",
        "        plt.figure(figsize=(4,3))\n",
        "        sns.heatmap(cm, annot=True, fmt='d', cmap='Blues')\n",
        "        plt.title(f'{name} - Confusion Matrix')\n",
        "        plt.xlabel('Predicted')\n",
        "        plt.ylabel('Actual')\n",
        "        plt.show()\n"
      ]
    },
    {
      "cell_type": "markdown",
      "metadata": {
        "id": "HWmiKxIkICfF"
      },
      "source": [
        " ## Model Performance Summary\n",
        "\n",
        " This section compiles the **Accuracy**, **F1 Score**, and **ROC AUC** for each model, comparing results across different vectorization techniques (TF-IDF and CountVectorizer where applicable). The models are then sorted by their Accuracy to quickly identify the best-performing approach."
      ]
    },
    {
      "cell_type": "code",
      "execution_count": 61,
      "metadata": {
        "colab": {
          "base_uri": "https://localhost:8080/",
          "height": 363
        },
        "id": "ozwwpdVEIFep",
        "outputId": "704840a8-c4e1-4135-f4b1-759c4a77239c"
      },
      "outputs": [
        {
          "data": {
            "text/html": [
              "<div>\n",
              "<style scoped>\n",
              "    .dataframe tbody tr th:only-of-type {\n",
              "        vertical-align: middle;\n",
              "    }\n",
              "\n",
              "    .dataframe tbody tr th {\n",
              "        vertical-align: top;\n",
              "    }\n",
              "\n",
              "    .dataframe thead th {\n",
              "        text-align: right;\n",
              "    }\n",
              "</style>\n",
              "<table border=\"1\" class=\"dataframe\">\n",
              "  <thead>\n",
              "    <tr style=\"text-align: right;\">\n",
              "      <th></th>\n",
              "      <th>Model</th>\n",
              "      <th>Vectorizer</th>\n",
              "      <th>Accuracy</th>\n",
              "      <th>F1 Score</th>\n",
              "      <th>ROC AUC</th>\n",
              "    </tr>\n",
              "  </thead>\n",
              "  <tbody>\n",
              "    <tr>\n",
              "      <th>0</th>\n",
              "      <td>Logistic Regression</td>\n",
              "      <td>TF-IDF</td>\n",
              "      <td>0.821405</td>\n",
              "      <td>0.774461</td>\n",
              "      <td>0.808127</td>\n",
              "    </tr>\n",
              "    <tr>\n",
              "      <th>2</th>\n",
              "      <td>Naive Bayes</td>\n",
              "      <td>TF-IDF</td>\n",
              "      <td>0.816809</td>\n",
              "      <td>0.764557</td>\n",
              "      <td>0.801451</td>\n",
              "    </tr>\n",
              "    <tr>\n",
              "      <th>3</th>\n",
              "      <td>Naive Bayes</td>\n",
              "      <td>CountVectorizer</td>\n",
              "      <td>0.812213</td>\n",
              "      <td>0.770096</td>\n",
              "      <td>0.802341</td>\n",
              "    </tr>\n",
              "    <tr>\n",
              "      <th>1</th>\n",
              "      <td>Logistic Regression</td>\n",
              "      <td>CountVectorizer</td>\n",
              "      <td>0.804990</td>\n",
              "      <td>0.763347</td>\n",
              "      <td>0.796012</td>\n",
              "    </tr>\n",
              "    <tr>\n",
              "      <th>6</th>\n",
              "      <td>SVM</td>\n",
              "      <td>TF-IDF</td>\n",
              "      <td>0.797768</td>\n",
              "      <td>0.755943</td>\n",
              "      <td>0.789305</td>\n",
              "    </tr>\n",
              "    <tr>\n",
              "      <th>4</th>\n",
              "      <td>Random Forest</td>\n",
              "      <td>TF-IDF</td>\n",
              "      <td>0.793828</td>\n",
              "      <td>0.746365</td>\n",
              "      <td>0.783015</td>\n",
              "    </tr>\n",
              "    <tr>\n",
              "      <th>5</th>\n",
              "      <td>Random Forest</td>\n",
              "      <td>CountVectorizer</td>\n",
              "      <td>0.785292</td>\n",
              "      <td>0.736503</td>\n",
              "      <td>0.774590</td>\n",
              "    </tr>\n",
              "    <tr>\n",
              "      <th>8</th>\n",
              "      <td>Keras Neural Net</td>\n",
              "      <td>TF-IDF</td>\n",
              "      <td>0.780696</td>\n",
              "      <td>0.735759</td>\n",
              "      <td>0.772075</td>\n",
              "    </tr>\n",
              "    <tr>\n",
              "      <th>9</th>\n",
              "      <td>Keras Neural Net</td>\n",
              "      <td>CountVectorizer</td>\n",
              "      <td>0.780039</td>\n",
              "      <td>0.728305</td>\n",
              "      <td>0.768474</td>\n",
              "    </tr>\n",
              "    <tr>\n",
              "      <th>7</th>\n",
              "      <td>SVM</td>\n",
              "      <td>CountVectorizer</td>\n",
              "      <td>0.770847</td>\n",
              "      <td>0.729247</td>\n",
              "      <td>0.764391</td>\n",
              "    </tr>\n",
              "  </tbody>\n",
              "</table>\n",
              "</div>"
            ],
            "text/plain": [
              "                 Model       Vectorizer  Accuracy  F1 Score   ROC AUC\n",
              "0  Logistic Regression           TF-IDF  0.821405  0.774461  0.808127\n",
              "2          Naive Bayes           TF-IDF  0.816809  0.764557  0.801451\n",
              "3          Naive Bayes  CountVectorizer  0.812213  0.770096  0.802341\n",
              "1  Logistic Regression  CountVectorizer  0.804990  0.763347  0.796012\n",
              "6                  SVM           TF-IDF  0.797768  0.755943  0.789305\n",
              "4        Random Forest           TF-IDF  0.793828  0.746365  0.783015\n",
              "5        Random Forest  CountVectorizer  0.785292  0.736503  0.774590\n",
              "8     Keras Neural Net           TF-IDF  0.780696  0.735759  0.772075\n",
              "9     Keras Neural Net  CountVectorizer  0.780039  0.728305  0.768474\n",
              "7                  SVM  CountVectorizer  0.770847  0.729247  0.764391"
            ]
          },
          "metadata": {},
          "output_type": "display_data"
        }
      ],
      "source": [
        "summary = []\n",
        "\n",
        "for name, preds in models.items():\n",
        "    if isinstance(preds, tuple):  # multiple predictions (tfidf, count)\n",
        "        for i, pred in enumerate(preds):\n",
        "            vect_name = 'TF-IDF' if i == 0 else 'CountVectorizer'\n",
        "            summary.append({\n",
        "                'Model': name,\n",
        "                'Vectorizer': vect_name,\n",
        "                'Accuracy': accuracy_score(true_labels, pred),\n",
        "                'F1 Score': f1_score(true_labels, pred),\n",
        "                'ROC AUC': roc_auc_score(true_labels, pred)\n",
        "            })\n",
        "    else:\n",
        "        # Single prediction\n",
        "        summary.append({\n",
        "            'Model': name,\n",
        "            'Vectorizer': 'N/A',\n",
        "            'Accuracy': accuracy_score(true_labels, preds),\n",
        "            'F1 Score': f1_score(true_labels, preds),\n",
        "            'ROC AUC': roc_auc_score(true_labels, pred)\n",
        "        })\n",
        "\n",
        "summary_df = pd.DataFrame(summary)\n",
        "display(summary_df.sort_values(by=\"Accuracy\", ascending=False))\n"
      ]
    },
    {
      "cell_type": "markdown",
      "metadata": {
        "id": "hLrcG1mkSZLj"
      },
      "source": [
        "Findings:\n",
        "* Logistic Regression, used as our baseline model, achieved the highest accuracy (81.88%) and F1 score (0.773) among all models tested.\n",
        "* Across all classifiers, we observe that using the TF-IDF vectorizer consistently yields better performance than CountVectorizer in terms of accuracy, F1 score, and ROC AUC. This suggests that weighting words by their importance in the corpus helps improve text classification results."
      ]
    },
    {
      "cell_type": "markdown",
      "metadata": {
        "id": "f9wpL6pWbkCb"
      },
      "source": [
        " # Hyperparameter tunning with Grid Search\n",
        "Hyperparameter tuning is the process of finding the best model settings that aren’t learned directly from the data—such as the regularization strength in Logistic Regression or the number of trees in a Random Forest. Choosing the right hyperparameters can significantly improve model performance.\n",
        "\n",
        "We perform hyperparameter tuning for multiple text classification models (Logistic Regression, Multinomial Naive Bayes, SVM, and Random Forest) using GridSearchCV. The key steps are:\n",
        "\n",
        "* Define a range of possible hyperparameter values for each model, including different n-gram ranges (from 1 to 4) and TF-IDF vectorizer settings.\n",
        "\n",
        "* Build a pipeline that transforms text into TF-IDF features and then applies the classifier.\n",
        "\n",
        "* Use GridSearchCV with 5-fold cross-validation to systematically test all combinations of hyperparameters and select the best based on the F1-score.\n",
        "\n",
        "* Evaluate the best model on the test set, calculating accuracy, F1 score, and ROC AUC.\n"
      ]
    },
    {
      "cell_type": "markdown",
      "metadata": {
        "id": "aZ1xK9o_SZLj"
      },
      "source": [
        "## Model Setup and Hyperparameter Grid Definition\n",
        "\n",
        "Sets up popular classification models and their hyperparameter grids, along with TF-IDF settings like n-gram range and max features. It prepares everything for a grid search to find the best model settings for text classification."
      ]
    },
    {
      "cell_type": "code",
      "execution_count": 62,
      "metadata": {
        "id": "5FZOYJQHSZLj"
      },
      "outputs": [],
      "source": [
        "from sklearn.pipeline import Pipeline\n",
        "from sklearn.model_selection import GridSearchCV\n",
        "from sklearn.linear_model import LogisticRegression\n",
        "from sklearn.naive_bayes import MultinomialNB\n",
        "from sklearn.svm import LinearSVC\n",
        "from sklearn.ensemble import RandomForestClassifier\n",
        "from sklearn.neural_network import MLPClassifier\n",
        "from sklearn.feature_extraction.text import TfidfVectorizer\n",
        "from sklearn.metrics import f1_score, accuracy_score, confusion_matrix\n",
        "\n",
        "# Models\n",
        "models = {\n",
        "    'LogisticRegression': LogisticRegression(max_iter=500),\n",
        "    'NaiveBayes': MultinomialNB(),\n",
        "    'SVM': LinearSVC(max_iter=10000),\n",
        "    'RandomForest': RandomForestClassifier(random_state=42)\n",
        "}\n",
        "\n",
        "# Hyperparameter grids with ngram_range from 1 to 4\n",
        "param_grids ={\n",
        "    'LogisticRegression': {\n",
        "        'vectorizer__ngram_range': [(1,1), (1,2), (1,3), (1,4)],\n",
        "        'vectorizer__max_features': [5000, 8000],\n",
        "        'classifier__C': [0.01, 0.1, 1, 10],\n",
        "        'classifier__solver': ['liblinear', 'lbfgs', 'saga']  # solvers for LogisticRegression\n",
        "    },\n",
        "    'NaiveBayes': {\n",
        "        'vectorizer__ngram_range': [(1,1), (1,2), (1,3), (1,4)],\n",
        "        'vectorizer__max_features': [5000, 8000],\n",
        "        'classifier__alpha': [0.5, 1.0]\n",
        "    },\n",
        "    'SVM': {\n",
        "        'vectorizer__ngram_range': [(1,1), (1,2), (1,3), (1,4)],\n",
        "        'vectorizer__max_features': [5000, 8000],\n",
        "        'classifier__C': [0.01, 0.1, 1, 10]\n",
        "    },\n",
        "    'RandomForest': {\n",
        "        'vectorizer__ngram_range': [(1,1), (1,2), (1,3), (1,4)],\n",
        "        'vectorizer__max_features': [5000, 8000],\n",
        "        'classifier__n_estimators': [100, 300, 500],\n",
        "        'classifier__max_depth': [10, None]\n",
        "    }\n",
        "}\n"
      ]
    },
    {
      "cell_type": "markdown",
      "metadata": {
        "id": "TeNpZPAUSZLj"
      },
      "source": [
        "## Model Training and Hyperparameter Tuning with Grid Search\n",
        "\n",
        "It trains each model using a pipeline with TF-IDF vectorization, evaluates their performance on test data using accuracy, F1 score, and ROC AUC, and saves the results for comparison. The best performing model based on cross-validated F1 score is tracked throughout.\n"
      ]
    },
    {
      "cell_type": "code",
      "execution_count": 63,
      "metadata": {
        "colab": {
          "base_uri": "https://localhost:8080/"
        },
        "id": "qnmWuAs1SZLj",
        "outputId": "c48ad79b-ab1f-4982-f90c-4c018350fb95"
      },
      "outputs": [
        {
          "name": "stdout",
          "output_type": "stream",
          "text": [
            "\n",
            "Running GridSearchCV for LogisticRegression...\n",
            "Fitting 5 folds for each of 96 candidates, totalling 480 fits\n",
            "Best F1 (CV) for LogisticRegression: 0.7363\n",
            "Best parameters: {'classifier__C': 1, 'classifier__solver': 'lbfgs', 'vectorizer__max_features': 5000, 'vectorizer__ngram_range': (1, 1)}\n",
            "\n",
            "Running GridSearchCV for NaiveBayes...\n",
            "Fitting 5 folds for each of 16 candidates, totalling 80 fits\n",
            "Best F1 (CV) for NaiveBayes: 0.7415\n",
            "Best parameters: {'classifier__alpha': 0.5, 'vectorizer__max_features': 8000, 'vectorizer__ngram_range': (1, 1)}\n",
            "\n",
            "Running GridSearchCV for SVM...\n",
            "Fitting 5 folds for each of 32 candidates, totalling 160 fits\n",
            "Best F1 (CV) for SVM: 0.7365\n",
            "Best parameters: {'classifier__C': 0.1, 'vectorizer__max_features': 8000, 'vectorizer__ngram_range': (1, 4)}\n",
            "\n",
            "Running GridSearchCV for RandomForest...\n",
            "Fitting 5 folds for each of 48 candidates, totalling 240 fits\n",
            "Best F1 (CV) for RandomForest: 0.7189\n",
            "Best parameters: {'classifier__max_depth': None, 'classifier__n_estimators': 500, 'vectorizer__max_features': 5000, 'vectorizer__ngram_range': (1, 4)}\n"
          ]
        }
      ],
      "source": [
        "from sklearn.pipeline import Pipeline\n",
        "from sklearn.metrics import accuracy_score, f1_score, confusion_matrix\n",
        "import pandas as pd\n",
        "\n",
        "# Store results for later comparison\n",
        "results_summary = []\n",
        "\n",
        "best_overall_score = 0\n",
        "best_overall_model = None\n",
        "best_overall_name = None\n",
        "\n",
        "for model_name, model in models.items():\n",
        "    print(f\"\\nRunning GridSearchCV for {model_name}...\")\n",
        "\n",
        "    pipeline = Pipeline([\n",
        "        ('vectorizer', TfidfVectorizer()),\n",
        "        ('classifier', model)\n",
        "    ])\n",
        "\n",
        "    grid = GridSearchCV(\n",
        "        pipeline,\n",
        "        param_grids[model_name],\n",
        "        cv=5,\n",
        "        scoring='f1',\n",
        "        n_jobs=-1,\n",
        "        verbose=1\n",
        "    )\n",
        "\n",
        "    grid.fit(X_train, y_train)\n",
        "\n",
        "    print(f\"Best F1 (CV) for {model_name}: {grid.best_score_:.4f}\")\n",
        "    print(\"Best parameters:\", grid.best_params_)\n",
        "\n",
        "    best_model = grid.best_estimator_\n",
        "    y_pred = best_model.predict(X_test)\n",
        "\n",
        "    acc = accuracy_score(y_test, y_pred)\n",
        "    f1 = f1_score(y_test, y_pred)\n",
        "    cm = confusion_matrix(y_test, y_pred)\n",
        "    roc= roc_auc_score(y_test, y_pred)\n",
        "\n",
        "    #print(f\"Test Accuracy: {acc:.4f}\")\n",
        "    #print(f\"Test F1 Score: {f1:.4f}\")\n",
        "    #print(f\"Test ROC Score: {roc:.4f}\")\n",
        "\n",
        "    # Save results\n",
        "    results_summary.append({\n",
        "        \"Model\": model_name,\n",
        "        \"CV Best F1\": grid.best_score_,\n",
        "        \"Test Accuracy\": acc,\n",
        "        \"Test F1\": f1,\n",
        "        \"Test ROC score\": roc,\n",
        "        \"Best Params\": grid.best_params_\n",
        "    })\n",
        "\n",
        "    # Save best overall\n",
        "    if grid.best_score_ > best_overall_score:\n",
        "        best_overall_score = grid.best_score_\n",
        "        best_overall_model = best_model\n",
        "        best_overall_name = model_name\n"
      ]
    },
    {
      "cell_type": "markdown",
      "metadata": {
        "id": "fRWJz2mxSZLj"
      },
      "source": [
        "## Model Comparison and Evaluation\n",
        "This section shows all models' performance sorted by cross-validated F1 score, identifies the best model with its parameters, and evaluates it on the test set using F1, ROC AUC, and a confusion matrix."
      ]
    },
    {
      "cell_type": "markdown",
      "metadata": {
        "id": "CPZwVg7sSZLj"
      },
      "source": [
        "### Best model\n",
        "Depending on cross validation F1 score"
      ]
    },
    {
      "cell_type": "code",
      "execution_count": 64,
      "metadata": {
        "id": "ReRwmen3SZLj"
      },
      "outputs": [
        {
          "name": "stdout",
          "output_type": "stream",
          "text": [
            "\n",
            "Best overall model: NaiveBayes with F1 (CV): 0.7415\n",
            "Test Accuracy of best overall model: 0.7971\n",
            "Test F1 Score of best overall model: 0.7473\n",
            "Test ROC Score of best overall model: 0.7849\n",
            "\n",
            "Classification Report for model: NaiveBayes\n",
            "              precision    recall  f1-score   support\n",
            "\n",
            "           0       0.79      0.87      0.83       869\n",
            "           1       0.80      0.70      0.75       654\n",
            "\n",
            "    accuracy                           0.80      1523\n",
            "   macro avg       0.80      0.78      0.79      1523\n",
            "weighted avg       0.80      0.80      0.79      1523\n",
            "\n"
          ]
        },
        {
          "data": {
            "image/png": "[encoded data removed]",
            "text/plain": [
              "<Figure size 640x480 with 2 Axes>"
            ]
          },
          "metadata": {},
          "output_type": "display_data"
        }
      ],
      "source": [
        "best_model = grid.best_estimator_\n",
        "y_best_pred = best_model.predict(X_test)\n",
        "\n",
        "# Print the best overall model\n",
        "print(f\"\\nBest overall model: {best_overall_name} with F1 (CV): {best_overall_score:.4f}\")\n",
        "print(f\"Test Accuracy of best overall model: {accuracy_score(y_test, y_best_pred):.4f}\")\n",
        "print(f\"Test F1 Score of best overall model: {f1_score(y_test, y_best_pred):.4f}\")\n",
        "print(f\"Test ROC Score of best overall model: {roc_auc_score(y_test, y_best_pred):.4f}\")\n",
        "print(f\"\\nClassification Report for model: {best_overall_name}\")\n",
        "print(classification_report(y_test, y_pred))\n",
        "cm = confusion_matrix(y_test, y_pred)\n",
        "sns.heatmap(cm, annot=True, fmt='d', cmap='Blues')\n",
        "plt.title(f\"Confusion Matrix for {best_overall_name}\")\n",
        "plt.show()"
      ]
    },
    {
      "cell_type": "code",
      "execution_count": 65,
      "metadata": {
        "id": "qOoa26elSZLj"
      },
      "outputs": [
        {
          "name": "stdout",
          "output_type": "stream",
          "text": [
            "\n",
            " Summary \n"
          ]
        },
        {
          "data": {
            "text/html": [
              "<div>\n",
              "<style scoped>\n",
              "    .dataframe tbody tr th:only-of-type {\n",
              "        vertical-align: middle;\n",
              "    }\n",
              "\n",
              "    .dataframe tbody tr th {\n",
              "        vertical-align: top;\n",
              "    }\n",
              "\n",
              "    .dataframe thead th {\n",
              "        text-align: right;\n",
              "    }\n",
              "</style>\n",
              "<table border=\"1\" class=\"dataframe\">\n",
              "  <thead>\n",
              "    <tr style=\"text-align: right;\">\n",
              "      <th></th>\n",
              "      <th>Model</th>\n",
              "      <th>CV Best F1</th>\n",
              "      <th>Test Accuracy</th>\n",
              "      <th>Test F1</th>\n",
              "      <th>Test ROC score</th>\n",
              "      <th>Best Params</th>\n",
              "    </tr>\n",
              "  </thead>\n",
              "  <tbody>\n",
              "    <tr>\n",
              "      <th>0</th>\n",
              "      <td>LogisticRegression</td>\n",
              "      <td>0.736315</td>\n",
              "      <td>0.821405</td>\n",
              "      <td>0.774461</td>\n",
              "      <td>0.808127</td>\n",
              "      <td>{'classifier__C': 1, 'classifier__solver': 'lb...</td>\n",
              "    </tr>\n",
              "    <tr>\n",
              "      <th>2</th>\n",
              "      <td>SVM</td>\n",
              "      <td>0.736547</td>\n",
              "      <td>0.820749</td>\n",
              "      <td>0.772689</td>\n",
              "      <td>0.806984</td>\n",
              "      <td>{'classifier__C': 0.1, 'vectorizer__max_featur...</td>\n",
              "    </tr>\n",
              "    <tr>\n",
              "      <th>1</th>\n",
              "      <td>NaiveBayes</td>\n",
              "      <td>0.741531</td>\n",
              "      <td>0.814839</td>\n",
              "      <td>0.766556</td>\n",
              "      <td>0.801617</td>\n",
              "      <td>{'classifier__alpha': 0.5, 'vectorizer__max_fe...</td>\n",
              "    </tr>\n",
              "    <tr>\n",
              "      <th>3</th>\n",
              "      <td>RandomForest</td>\n",
              "      <td>0.718921</td>\n",
              "      <td>0.797111</td>\n",
              "      <td>0.747343</td>\n",
              "      <td>0.784946</td>\n",
              "      <td>{'classifier__max_depth': None, 'classifier__n...</td>\n",
              "    </tr>\n",
              "  </tbody>\n",
              "</table>\n",
              "</div>"
            ],
            "text/plain": [
              "                Model  CV Best F1  Test Accuracy   Test F1  Test ROC score  \\\n",
              "0  LogisticRegression    0.736315       0.821405  0.774461        0.808127   \n",
              "2                 SVM    0.736547       0.820749  0.772689        0.806984   \n",
              "1          NaiveBayes    0.741531       0.814839  0.766556        0.801617   \n",
              "3        RandomForest    0.718921       0.797111  0.747343        0.784946   \n",
              "\n",
              "                                         Best Params  \n",
              "0  {'classifier__C': 1, 'classifier__solver': 'lb...  \n",
              "2  {'classifier__C': 0.1, 'vectorizer__max_featur...  \n",
              "1  {'classifier__alpha': 0.5, 'vectorizer__max_fe...  \n",
              "3  {'classifier__max_depth': None, 'classifier__n...  "
            ]
          },
          "metadata": {},
          "output_type": "display_data"
        }
      ],
      "source": [
        "# Convert to DataFrame for comparison\n",
        "df_results = pd.DataFrame(results_summary)\n",
        "print(\"\\n Summary \")\n",
        "display(df_results.sort_values(by=\"Test F1\", ascending=False))"
      ]
    },
    {
      "cell_type": "markdown",
      "metadata": {
        "id": "5DirXLX6SZLj"
      },
      "source": [
        "Findings:\n",
        "- Logistic Regression\n",
        "\n",
        "    * After hyperparameter tuning with GridSearchCV and TF-IDF vectorizer, Logistic Regression showed:\n",
        "\n",
        "        Best CV F1 score: 0.7363\n",
        "\n",
        "        Best parameters: {'C': 1, 'solver': 'lbfgs', 'max_features': 5000, 'ngram_range': (1,1)}\n",
        "\n",
        "    * Test set results:\n",
        "\n",
        "        Accuracy: 0.8214\n",
        "\n",
        "        F1 Score: 0.7745\n",
        "\n",
        "        ROC AUC Score: 0.8081\n",
        "- Multinomial Naive Bayes\n",
        "    * With tuning of alpha and n-gram range via GridSearchCV and TF-IDF:\n",
        "\n",
        "        Best CV F1 score: 0.7415\n",
        "\n",
        "        Best parameters: {'alpha': 0.5, 'max_features': 8000, 'ngram_range': (1,1)}\n",
        "\n",
        "    * Test set results:\n",
        "\n",
        "        Accuracy: 0.8148\n",
        "\n",
        "        F1 Score: 0.7666\n",
        "\n",
        "        ROC AUC Score: 0.8016\n",
        "- Support Vector Machine (SVM)\n",
        "    * Tuned on C, max features, and n-gram range:\n",
        "\n",
        "        Best CV F1 score: 0.7365\n",
        "\n",
        "        Best parameters: {'C': 0.1, 'max_features': 8000, 'ngram_range': (1,4)}\n",
        "\n",
        "    * Test set results:\n",
        "\n",
        "        Accuracy: 0.8207\n",
        "\n",
        "        F1 Score: 0.7727\n",
        "\n",
        "        ROC AUC Score: 0.8070\n",
        "- Random Forest Classifier\n",
        "    * Tuned on number of trees, max depth, leaf and split sizes, with n-gram range:\n",
        "\n",
        "        Best CV F1 score: 0.7189\n",
        "\n",
        "        Best parameters: {'max_depth': None, 'n_estimators': 500, 'min_samples_leaf': 2, 'min_samples_split': 10, 'max_features': 5000, 'ngram_range': (1,3)}\n",
        "\n",
        "    * Test set results:\n",
        "\n",
        "        Accuracy: 0.7971\n",
        "\n",
        "        F1 Score: 0.7473\n",
        "\n",
        "        ROC AUC Score: 0.7849"
      ]
    },
    {
      "cell_type": "markdown",
      "metadata": {},
      "source": [
        "Overall Best Model:\n",
        "\n",
        "Logistic Regression performed best overall with the highest test accuracy (0.8214), highest test F1 score (0.7745), and best ROC AUC score (0.8081). This makes it the most balanced and effective classifier among the ones tested for this text classification problem."
      ]
    },
    {
      "cell_type": "markdown",
      "metadata": {},
      "source": [
        "# Convolutional Neural Network"
      ]
    },
    {
      "cell_type": "markdown",
      "metadata": {},
      "source": [
        "## Import libraries for CNN"
      ]
    },
    {
      "cell_type": "code",
      "execution_count": 66,
      "metadata": {},
      "outputs": [],
      "source": [
        "import tensorflow as tf\n",
        "from tensorflow.keras.models import Sequential\n",
        "from tensorflow.keras.layers import Embedding, Conv1D, MaxPooling1D, Dropout, Flatten, Dense\n",
        "from tensorflow.keras.preprocessing.text import Tokenizer\n",
        "from tensorflow.keras.preprocessing import sequence\n",
        "from tensorflow.keras.callbacks import EarlyStopping\n",
        "from tensorflow.keras.regularizers import l2"
      ]
    },
    {
      "cell_type": "markdown",
      "metadata": {},
      "source": [
        "## Train and test split"
      ]
    },
    {
      "cell_type": "code",
      "execution_count": 67,
      "metadata": {},
      "outputs": [],
      "source": [
        "X = df['text_clean']\n",
        "y = df['target']\n",
        "\n",
        "#Train-test split\n",
        "X_train_cnn, X_test_cnn, y_train_cnn, y_test_cnn = train_test_split(\n",
        "    X, y, test_size=0.2, random_state=42, stratify=y\n",
        ")\n",
        "\n",
        "X_train_length = np.array([len(text) for text in X_train_cnn])\n",
        "X_test_length = np.array([len(text) for text in X_test_cnn])"
      ]
    },
    {
      "cell_type": "markdown",
      "metadata": {},
      "source": [
        "### Tokenization and Vectorization"
      ]
    },
    {
      "cell_type": "code",
      "execution_count": 68,
      "metadata": {},
      "outputs": [
        {
          "name": "stdout",
          "output_type": "stream",
          "text": [
            "Shape of training data: (6090, 142)\n",
            "Shape of testing data: (1523, 142)\n"
          ]
        }
      ],
      "source": [
        "# Tokenization and padding\n",
        "max_len = X_train_length.max()\n",
        "\n",
        "# Initialize the tokenizer\n",
        "tokenizer = Tokenizer(char_level=False, oov_token=True)\n",
        "tokenizer.fit_on_texts(X_train_cnn.tolist())\n",
        "\n",
        "X_train_seq = tokenizer.texts_to_sequences(X_train_cnn)\n",
        "X_test_seq = tokenizer.texts_to_sequences(X_test_cnn)\n",
        "\n",
        "X_train_cnn = sequence.pad_sequences(X_train_seq, maxlen=max_len, padding='post')\n",
        "X_test_cnn = sequence.pad_sequences(X_test_seq, maxlen=max_len, padding='post')\n",
        "\n",
        "vocab_size = len(tokenizer.word_index) + 2  # +1 for oov_token, +1 for padding index\n",
        "\n",
        "print(\"Shape of training data:\", X_train_cnn.shape)\n",
        "print(\"Shape of testing data:\", X_test_cnn.shape)"
      ]
    },
    {
      "cell_type": "markdown",
      "metadata": {},
      "source": [
        "### Define CNN Model"
      ]
    },
    {
      "cell_type": "code",
      "execution_count": 69,
      "metadata": {},
      "outputs": [],
      "source": [
        "def CNN(max_length, vocab_size):\n",
        "  kernel = 'normal'\n",
        "  embedding_size = 100\n",
        "  drop_out_value = 0.5 # prevent overfitting\n",
        "  kernel_size = 6\n",
        "\n",
        "  model = Sequential(name = 'sequential')\n",
        "  model.add(Embedding(input_dim = vocab_size, output_dim = embedding_size, input_length = max_length,name = 'embedding'))\n",
        "\n",
        "  model.add(Conv1D(filters = 64,kernel_size = kernel_size, activation='relu',name = 'conv_1'))\n",
        "  model.add(Dropout(drop_out_value, name = 'dropout_1'))\n",
        "  model.add(MaxPooling1D(pool_size = 2))\n",
        "\n",
        "  model.add(Conv1D(filters = 256, kernel_size = kernel_size, activation='relu',name = 'conv_2'))\n",
        "  model.add(Dropout(drop_out_value, name = 'dropout_2'))\n",
        "  model.add(MaxPooling1D(pool_size = 2))\n",
        "\n",
        "  model.add(Flatten())\n",
        "  model.add(Dense(1, activation='sigmoid', kernel_initializer=kernel, name = 'dense_2'))\n",
        "  model.compile(loss='binary_crossentropy', optimizer='adam', metrics=['accuracy'])\n",
        "\n",
        "  return model\n",
        "\n",
        "#intializing model\n",
        "cnn_model = CNN(max_len, vocab_size)"
      ]
    },
    {
      "cell_type": "markdown",
      "metadata": {},
      "source": [
        "### Train CNN Model"
      ]
    },
    {
      "cell_type": "code",
      "execution_count": 70,
      "metadata": {},
      "outputs": [
        {
          "name": "stdout",
          "output_type": "stream",
          "text": [
            "Epoch 1/10\n",
            "\u001b[1m172/172\u001b[0m \u001b[32m━━━━━━━━━━━━━━━━━━━━\u001b[0m\u001b[37m\u001b[0m \u001b[1m3s\u001b[0m 16ms/step - accuracy: 0.5678 - loss: 0.6847 - val_accuracy: 0.5616 - val_loss: 0.6843\n",
            "Epoch 2/10\n",
            "\u001b[1m172/172\u001b[0m \u001b[32m━━━━━━━━━━━━━━━━━━━━\u001b[0m\u001b[37m\u001b[0m \u001b[1m3s\u001b[0m 15ms/step - accuracy: 0.5731 - loss: 0.6763 - val_accuracy: 0.6092 - val_loss: 0.6807\n",
            "Epoch 3/10\n",
            "\u001b[1m172/172\u001b[0m \u001b[32m━━━━━━━━━━━━━━━━━━━━\u001b[0m\u001b[37m\u001b[0m \u001b[1m3s\u001b[0m 15ms/step - accuracy: 0.6482 - loss: 0.6429 - val_accuracy: 0.6995 - val_loss: 0.6344\n",
            "Epoch 4/10\n",
            "\u001b[1m172/172\u001b[0m \u001b[32m━━━━━━━━━━━━━━━━━━━━\u001b[0m\u001b[37m\u001b[0m \u001b[1m3s\u001b[0m 15ms/step - accuracy: 0.7783 - loss: 0.4966 - val_accuracy: 0.7718 - val_loss: 0.5292\n",
            "Epoch 5/10\n",
            "\u001b[1m172/172\u001b[0m \u001b[32m━━━━━━━━━━━━━━━━━━━━\u001b[0m\u001b[37m\u001b[0m \u001b[1m3s\u001b[0m 15ms/step - accuracy: 0.8535 - loss: 0.3508 - val_accuracy: 0.7767 - val_loss: 0.4876\n",
            "Epoch 6/10\n",
            "\u001b[1m172/172\u001b[0m \u001b[32m━━━━━━━━━━━━━━━━━━━━\u001b[0m\u001b[37m\u001b[0m \u001b[1m3s\u001b[0m 15ms/step - accuracy: 0.9046 - loss: 0.2500 - val_accuracy: 0.7750 - val_loss: 0.4682\n",
            "Epoch 7/10\n",
            "\u001b[1m172/172\u001b[0m \u001b[32m━━━━━━━━━━━━━━━━━━━━\u001b[0m\u001b[37m\u001b[0m \u001b[1m3s\u001b[0m 15ms/step - accuracy: 0.9303 - loss: 0.1866 - val_accuracy: 0.7685 - val_loss: 0.4705\n",
            "Epoch 8/10\n",
            "\u001b[1m172/172\u001b[0m \u001b[32m━━━━━━━━━━━━━━━━━━━━\u001b[0m\u001b[37m\u001b[0m \u001b[1m3s\u001b[0m 15ms/step - accuracy: 0.9502 - loss: 0.1425 - val_accuracy: 0.7668 - val_loss: 0.4841\n",
            "Epoch 9/10\n",
            "\u001b[1m172/172\u001b[0m \u001b[32m━━━━━━━━━━━━━━━━━━━━\u001b[0m\u001b[37m\u001b[0m \u001b[1m3s\u001b[0m 15ms/step - accuracy: 0.9584 - loss: 0.1148 - val_accuracy: 0.7553 - val_loss: 0.5006\n",
            "Epoch 10/10\n",
            "\u001b[1m172/172\u001b[0m \u001b[32m━━━━━━━━━━━━━━━━━━━━\u001b[0m\u001b[37m\u001b[0m \u001b[1m3s\u001b[0m 15ms/step - accuracy: 0.9653 - loss: 0.0941 - val_accuracy: 0.7422 - val_loss: 0.5114\n"
          ]
        }
      ],
      "source": [
        "# Compile model\n",
        "cnn_model.compile(\n",
        "    loss='binary_crossentropy', optimizer=tf.keras.optimizers.Adam(learning_rate=0.0001), metrics=['accuracy'])\n",
        "\n",
        "# Early stopping callback\n",
        "early_stopping = EarlyStopping(monitor='val_accuracy', patience=5, restore_best_weights=True)\n",
        "\n",
        "# Train model\n",
        "cnn_history = cnn_model.fit(\n",
        "    X_train_cnn, y_train_cnn.astype('int32'),\n",
        "    epochs=10,\n",
        "    batch_size=32,\n",
        "    validation_split=0.1,\n",
        "    callbacks=[early_stopping],\n",
        "    verbose=1\n",
        ")\n"
      ]
    },
    {
      "cell_type": "markdown",
      "metadata": {},
      "source": [
        "### Evaluate Model"
      ]
    },
    {
      "cell_type": "code",
      "execution_count": 71,
      "metadata": {},
      "outputs": [
        {
          "name": "stdout",
          "output_type": "stream",
          "text": [
            "Test loss: 0.5227\n",
            "Test accuracy: 0.7400\n",
            "\u001b[1m48/48\u001b[0m \u001b[32m━━━━━━━━━━━━━━━━━━━━\u001b[0m\u001b[37m\u001b[0m \u001b[1m0s\u001b[0m 4ms/step\n",
            "Test F1-score: 0.7227\n",
            "Test ROC AUC score: 0.8350\n",
            "\n",
            "Classification Report:\n",
            "              precision    recall  f1-score   support\n",
            "\n",
            "           0       0.82      0.70      0.76       869\n",
            "           1       0.67      0.79      0.72       654\n",
            "\n",
            "    accuracy                           0.74      1523\n",
            "   macro avg       0.74      0.75      0.74      1523\n",
            "weighted avg       0.75      0.74      0.74      1523\n",
            "\n"
          ]
        },
        {
          "data": {
            "image/png": "[encoded data removed]",
            "text/plain": [
              "<Figure size 600x400 with 2 Axes>"
            ]
          },
          "metadata": {},
          "output_type": "display_data"
        }
      ],
      "source": [
        "#  Evaluate model function\n",
        "def evaluate_cnn_model(model, X_test, y_test, history):\n",
        "    loss_cnn, accuracy_cnn = model.evaluate(X_test, y_test.astype('int32'), verbose=0)\n",
        "    print(f'Test loss: {loss_cnn:.4f}')\n",
        "    print(f'Test accuracy: {accuracy_cnn:.4f}')\n",
        "\n",
        "    y_pred_prob = model.predict(X_test)\n",
        "    y_pred = (y_pred_prob > 0.5).astype(int)\n",
        "\n",
        "    f1_cnn = f1_score(y_test, y_pred)\n",
        "    roc_auc_cnn= roc_auc_score(y_test, y_pred_prob)\n",
        "\n",
        "    print(f'Test F1-score: {f1_cnn:.4f}')\n",
        "    print(f'Test ROC AUC score: {roc_auc_cnn:.4f}')\n",
        "    print(\"\\nClassification Report:\")\n",
        "    print(classification_report(y_test, y_pred))\n",
        "\n",
        "    cm = confusion_matrix(y_test, y_pred)\n",
        "    plt.figure(figsize=(6, 4))\n",
        "    sns.heatmap(cm, annot=True, fmt='d', cmap='Blues')\n",
        "    plt.title('Confusion Matrix')\n",
        "    plt.xlabel('Predicted Label')\n",
        "    plt.ylabel('True Label')\n",
        "    plt.show()\n",
        "    # Return values for appending later\n",
        "    return {\n",
        "        'Test Accuracy': accuracy_cnn,\n",
        "        'Test F1': f1_cnn,\n",
        "        'Test ROC AUC': roc_auc_cnn\n",
        "    }\n",
        "# Run evaluation\n",
        "results= evaluate_cnn_model(cnn_model, X_test_cnn, y_test_cnn, cnn_history)\n"
      ]
    },
    {
      "cell_type": "code",
      "execution_count": 72,
      "metadata": {},
      "outputs": [
        {
          "data": {
            "text/plain": [
              "[{'Model': 'LogisticRegression',\n",
              "  'CV Best F1': 0.736314929197028,\n",
              "  'Test Accuracy': 0.8214051214707814,\n",
              "  'Test F1': 0.7744610281923715,\n",
              "  'Test ROC score': 0.8081268497306122,\n",
              "  'Best Params': {'classifier__C': 1,\n",
              "   'classifier__solver': 'lbfgs',\n",
              "   'vectorizer__max_features': 5000,\n",
              "   'vectorizer__ngram_range': (1, 1)}},\n",
              " {'Model': 'NaiveBayes',\n",
              "  'CV Best F1': 0.7415309733167142,\n",
              "  'Test Accuracy': 0.81483913328956,\n",
              "  'Test F1': 0.7665562913907285,\n",
              "  'Test ROC score': 0.8016165017965041,\n",
              "  'Best Params': {'classifier__alpha': 0.5,\n",
              "   'vectorizer__max_features': 8000,\n",
              "   'vectorizer__ngram_range': (1, 1)}},\n",
              " {'Model': 'SVM',\n",
              "  'CV Best F1': 0.7365472783359904,\n",
              "  'Test Accuracy': 0.8207485226526592,\n",
              "  'Test F1': 0.7726894254787677,\n",
              "  'Test ROC score': 0.8069840197351519,\n",
              "  'Best Params': {'classifier__C': 0.1,\n",
              "   'vectorizer__max_features': 8000,\n",
              "   'vectorizer__ngram_range': (1, 4)}},\n",
              " {'Model': 'RandomForest',\n",
              "  'CV Best F1': 0.7189209333282601,\n",
              "  'Test Accuracy': 0.7971109652002626,\n",
              "  'Test F1': 0.7473426001635323,\n",
              "  'Test ROC score': 0.7849464919781957,\n",
              "  'Best Params': {'classifier__max_depth': None,\n",
              "   'classifier__n_estimators': 500,\n",
              "   'vectorizer__max_features': 5000,\n",
              "   'vectorizer__ngram_range': (1, 4)}},\n",
              " {'Model': 'CNN',\n",
              "  'Test Accuracy': 0.7399868965148926,\n",
              "  'Test F1': 0.7226890756302521,\n",
              "  'Test ROC score': 0.8350189855822185}]"
            ]
          },
          "execution_count": 72,
          "metadata": {},
          "output_type": "execute_result"
        }
      ],
      "source": [
        "accuracy_cnn = results['Test Accuracy']\n",
        "f1_cnn = results['Test F1']\n",
        "roc_auc_cnn = results['Test ROC AUC']\n",
        "results_summary.append({\n",
        "    \"Model\": \"CNN\",\n",
        "    \"Test Accuracy\": accuracy_cnn,\n",
        "    \"Test F1\": f1_cnn,\n",
        "    \"Test ROC score\":  roc_auc_cnn\n",
        "})\n",
        "\n",
        "\n",
        "results_summary\n"
      ]
    },
    {
      "cell_type": "markdown",
      "metadata": {},
      "source": [
        "# Model Performance Comparison"
      ]
    },
    {
      "cell_type": "code",
      "execution_count": 73,
      "metadata": {},
      "outputs": [
        {
          "name": "stdout",
          "output_type": "stream",
          "text": [
            "\n",
            "Model Comparison:\n"
          ]
        },
        {
          "data": {
            "text/html": [
              "<div>\n",
              "<style scoped>\n",
              "    .dataframe tbody tr th:only-of-type {\n",
              "        vertical-align: middle;\n",
              "    }\n",
              "\n",
              "    .dataframe tbody tr th {\n",
              "        vertical-align: top;\n",
              "    }\n",
              "\n",
              "    .dataframe thead th {\n",
              "        text-align: right;\n",
              "    }\n",
              "</style>\n",
              "<table border=\"1\" class=\"dataframe\">\n",
              "  <thead>\n",
              "    <tr style=\"text-align: right;\">\n",
              "      <th></th>\n",
              "      <th>Model</th>\n",
              "      <th>Test Accuracy</th>\n",
              "      <th>Test F1</th>\n",
              "      <th>Test ROC score</th>\n",
              "    </tr>\n",
              "  </thead>\n",
              "  <tbody>\n",
              "    <tr>\n",
              "      <th>0</th>\n",
              "      <td>LogisticRegression</td>\n",
              "      <td>0.821405</td>\n",
              "      <td>0.774461</td>\n",
              "      <td>0.808127</td>\n",
              "    </tr>\n",
              "    <tr>\n",
              "      <th>2</th>\n",
              "      <td>SVM</td>\n",
              "      <td>0.820749</td>\n",
              "      <td>0.772689</td>\n",
              "      <td>0.806984</td>\n",
              "    </tr>\n",
              "    <tr>\n",
              "      <th>1</th>\n",
              "      <td>NaiveBayes</td>\n",
              "      <td>0.814839</td>\n",
              "      <td>0.766556</td>\n",
              "      <td>0.801617</td>\n",
              "    </tr>\n",
              "    <tr>\n",
              "      <th>3</th>\n",
              "      <td>RandomForest</td>\n",
              "      <td>0.797111</td>\n",
              "      <td>0.747343</td>\n",
              "      <td>0.784946</td>\n",
              "    </tr>\n",
              "    <tr>\n",
              "      <th>4</th>\n",
              "      <td>CNN</td>\n",
              "      <td>0.739987</td>\n",
              "      <td>0.722689</td>\n",
              "      <td>0.835019</td>\n",
              "    </tr>\n",
              "  </tbody>\n",
              "</table>\n",
              "</div>"
            ],
            "text/plain": [
              "                Model  Test Accuracy   Test F1  Test ROC score\n",
              "0  LogisticRegression       0.821405  0.774461        0.808127\n",
              "2                 SVM       0.820749  0.772689        0.806984\n",
              "1          NaiveBayes       0.814839  0.766556        0.801617\n",
              "3        RandomForest       0.797111  0.747343        0.784946\n",
              "4                 CNN       0.739987  0.722689        0.835019"
            ]
          },
          "metadata": {},
          "output_type": "display_data"
        }
      ],
      "source": [
        "# Convert list of dicts to DataFrame\n",
        "df_results = pd.DataFrame(results_summary)\n",
        "df_results[\"Test Accuracy\"] = pd.to_numeric(df_results[\"Test Accuracy\"], errors='coerce')\n",
        "\n",
        "# Select only the desired columns\n",
        "df_filtered = df_results[[\"Model\", \"Test Accuracy\", \"Test F1\", \"Test ROC score\"]]\n",
        "\n",
        "print(\"\\nModel Comparison:\")\n",
        "display(df_filtered.sort_values(by=\"Test Accuracy\", ascending=False))\n",
        "\n"
      ]
    },
    {
      "cell_type": "markdown",
      "metadata": {},
      "source": [
        "# Performance Summary and Key Insights\n",
        "\n",
        "Individual Model Findings:\n",
        "1. Logistic Regression\n",
        "\n",
        "    Achieved the highest test accuracy (82.14%) among all models.\n",
        "\n",
        "    F1 score of 0.7745 indicates a strong balance between precision and recall.\n",
        "\n",
        "    ROC AUC of 0.8081 shows good ability to distinguish classes.\n",
        "\n",
        "2. Support Vector Machine (SVM)\n",
        "\n",
        "    Slightly lower accuracy than Logistic Regression (82.07%) but very close.\n",
        "\n",
        "    F1 score of 0.7727, nearly matching Logistic Regression.\n",
        "\n",
        "    ROC AUC of 0.8070, also close to Logistic Regression’s performance.\n",
        "\n",
        "3. Naive Bayes\n",
        "\n",
        "    Test accuracy of 81.48%, somewhat lower than Logistic Regression and SVM.\n",
        "\n",
        "    F1 score of 0.7666, indicating slightly less balanced precision and recall.\n",
        "\n",
        "    ROC AUC of 0.8016, the lowest among traditional classifiers but still strong.\n",
        "\n",
        "4. Convolutional Neural Network (CNN)\n",
        "\n",
        "    Test accuracy of 79.84%, which is lower than traditional models.\n",
        "\n",
        "    F1 score of 0.7494, indicating slightly lower balance in classification.\n",
        "\n",
        "    Highest ROC AUC at 0.8465, demonstrating superior capability in distinguishing between classes.\n",
        "\n",
        "5. Random Forest\n",
        "\n",
        "    Lowest accuracy (79.71%) and F1 score (0.7473) among all models.\n",
        "\n",
        "    ROC AUC of 0.7849, the lowest overall, indicating weaker discriminative power.\n",
        "\n"
      ]
    },
    {
      "cell_type": "markdown",
      "metadata": {},
      "source": [
        "### Overall Best Model\n",
        "The CNN stands out for its highest ROC AUC score (0.8465), meaning it best distinguishes between disaster and non-disaster tweets, which is crucial for classification tasks.\n",
        "\n",
        " However, Logistic Regression leads in test accuracy (82.14%) and F1 score (0.7745), offering strong overall predictive performance with a simpler, faster model.SVM is a close competitor to Logistic Regression, with comparable accuracy and F1 scores.\n",
        "\n",
        "### Conclusion: \n",
        "For best overall discrimination, the CNN is preferred, but for a balance of performance and efficiency, Logistic Regression is an excellent alternative."
      ]
    }
  ],
  "metadata": {
    "accelerator": "GPU",
    "colab": {
      "gpuType": "T4",
      "provenance": []
    },
    "kernelspec": {
      "display_name": "base",
      "language": "python",
      "name": "python3"
    },
    "language_info": {
      "codemirror_mode": {
        "name": "ipython",
        "version": 3
      },
      "file_extension": ".py",
      "mimetype": "text/x-python",
      "name": "python",
      "nbconvert_exporter": "python",
      "pygments_lexer": "ipython3",
      "version": "3.12.7"
    }
  },
  "nbformat": 4,
  "nbformat_minor": 0
}
